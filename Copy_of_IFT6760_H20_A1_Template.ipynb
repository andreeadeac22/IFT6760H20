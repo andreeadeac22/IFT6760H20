{
  "nbformat": 4,
  "nbformat_minor": 0,
  "metadata": {
    "colab": {
      "name": "Copy of IFT6760-H20-A1-Template.ipynb",
      "provenance": [],
      "collapsed_sections": [],
      "include_colab_link": true
    },
    "kernelspec": {
      "name": "python3",
      "display_name": "Python 3"
    }
  },
  "cells": [
    {
      "cell_type": "markdown",
      "metadata": {
        "id": "view-in-github",
        "colab_type": "text"
      },
      "source": [
        "<a href=\"https://colab.research.google.com/github/andreeadeac22/IFT6760H20/blob/master/Copy_of_IFT6760_H20_A1_Template.ipynb\" target=\"_parent\"><img src=\"https://colab.research.google.com/assets/colab-badge.svg\" alt=\"Open In Colab\"/></a>"
      ]
    },
    {
      "cell_type": "markdown",
      "metadata": {
        "id": "sM9fD394B_Pe",
        "colab_type": "text"
      },
      "source": [
        "This synthetic MDP has no particular meaning except that it produces pretty plot. It is inspired from [Dadashi & al. (2019)](http://proceedings.mlr.press/v97/dadashi19a.html).\n",
        "\n",
        "Note: we will be using [JAX](https://jax.readthedocs.io/en/latest/) instead of Numpy because we will later make use of the automatic differentiation feature. \n",
        "Because JAX is meant to work best when the code is properly [*jitted*](https://en.wikipedia.org/wiki/Just-in-time_compilation) (which I didn't do for simplicity), some sections may run slower than a pure Numpy implementation. It shouldn't be a problem for the problems that we are working with (order of few seconds max). If you are impatient, feel free to use the [@jit](https://jax.readthedocs.io/en/latest/jax.html#just-in-time-compilation-jit) decorator where appropriate."
      ]
    },
    {
      "cell_type": "code",
      "metadata": {
        "id": "SqvBWr_ROOgU",
        "colab_type": "code",
        "colab": {}
      },
      "source": [
        "import jax.numpy as np\n",
        "from jax.config import config\n",
        "config.update(\"jax_enable_x64\", True)\n",
        "\n",
        "def synthetic_mdp():\n",
        "  P = np.array([[[0.75 , 0.25 ], [0.2 , 0.8 ]],\n",
        "                [[0.99, 0.01], [0.8, 0.2]]])\n",
        "  mdp_R = np.array(([[-0.5, -0.25 ],\n",
        "                [ 0.5 ,  0.25 ]]))\n",
        "  return P, mdp_R, 0.9"
      ],
      "execution_count": 0,
      "outputs": []
    },
    {
      "cell_type": "markdown",
      "metadata": {
        "id": "p9Ra2WWSBj20",
        "colab_type": "text"
      },
      "source": [
        "The method of successive approximation provides us with a generic template for all of our algorithms. In the following, we will use:"
      ]
    },
    {
      "cell_type": "code",
      "metadata": {
        "id": "TRSuNAuEPOQN",
        "colab_type": "code",
        "colab": {}
      },
      "source": [
        "def generate_iterates(xinit, operator, termination_condition):\n",
        "    x, xprev = operator(xinit), xinit\n",
        "    #print(x)\n",
        "    yield x\n",
        "    while not termination_condition(xprev, x):\n",
        "        x, xprev = operator(x), x\n",
        "        yield x\n",
        "\n",
        "def successive_approximation(xinit, operator=lambda x: x, termination_condition=lambda xprev, x: False):\n",
        "    for iterate in generate_iterates(xinit, operator, termination_condition):\n",
        "      pass\n",
        "    return iterate"
      ],
      "execution_count": 0,
      "outputs": []
    },
    {
      "cell_type": "markdown",
      "metadata": {
        "id": "GzlHLc5YKKR3",
        "colab_type": "text"
      },
      "source": [
        "We define a generic termination condition for successive approximation based on the Euclidean distance between two iterates. "
      ]
    },
    {
      "cell_type": "code",
      "metadata": {
        "id": "gXkVO95t6ERS",
        "colab_type": "code",
        "colab": {}
      },
      "source": [
        "def default_termination(xprev, x, epsilon=1e-8):\n",
        "  return np.linalg.norm(xprev - x) < epsilon"
      ],
      "execution_count": 0,
      "outputs": []
    },
    {
      "cell_type": "markdown",
      "metadata": {
        "id": "JUkjR0Ak9H0X",
        "colab_type": "text"
      },
      "source": [
        "# Policy Evaluation"
      ]
    },
    {
      "cell_type": "markdown",
      "metadata": {
        "id": "nblOb8_RJQOp",
        "colab_type": "text"
      },
      "source": [
        "We start by implementing the policy evaluation operator. Refer to the section on vector notation in the course notes or read Puterman (1994) for references. \n",
        "In general, many of these operations can be written consicely by using [np.einsum](https://docs.scipy.org/doc/numpy/reference/generated/numpy.einsum.html). For an overview of Einstein notation, see this [blogpost](https://rockt.github.io/2018/04/30/einsum) by Tim Rocktäschel."
      ]
    },
    {
      "cell_type": "code",
      "metadata": {
        "id": "HsF5eokZOhxf",
        "colab_type": "code",
        "colab": {}
      },
      "source": [
        "def make_policy_evaluation_operator(P, R, discount, policy):\n",
        "  def policy_evaluation_operator(v):  \n",
        "    p_pi = np.einsum('ijk,ji->jk', P, policy)\n",
        "    discounted_pv = discount * np.einsum('ij,j->i', p_pi, v)\n",
        "    r_pi = np.einsum('ij, ij -> i', policy, R)\n",
        "    return np.add(r_pi, discounted_pv)\n",
        "  return policy_evaluation_operator"
      ],
      "execution_count": 0,
      "outputs": []
    },
    {
      "cell_type": "code",
      "metadata": {
        "id": "A61DGS9zPPW8",
        "colab_type": "code",
        "colab": {}
      },
      "source": [
        "mdp = synthetic_mdp()\n",
        "P, mdp_R, discount = mdp\n",
        "nstates, nactions = P.shape[-1], P.shape[0]"
      ],
      "execution_count": 0,
      "outputs": []
    },
    {
      "cell_type": "markdown",
      "metadata": {
        "id": "iam11W2I7Jor",
        "colab_type": "text"
      },
      "source": [
        "A good sanity check to see if our policy evaluation method is to use a reward function which is $1$ everywhere. In the discounted setting, we have that the expected return should be equal to $1/(1- \n",
        "\\gamma)$."
      ]
    },
    {
      "cell_type": "code",
      "metadata": {
        "id": "CgRmfX6x5Qyo",
        "colab_type": "code",
        "colab": {
          "base_uri": "https://localhost:8080/",
          "height": 34
        },
        "outputId": "a589e9d0-713e-4cf1-e0f5-a9576734b644"
      },
      "source": [
        "reward_all_ones = np.ones((nstates, nactions))\n",
        "uniform_policy = np.ones((nstates, nactions))/nactions\n",
        "\n",
        "policy_evaluation_operator = make_policy_evaluation_operator(P, reward_all_ones, discount, uniform_policy)\n",
        "solution = successive_approximation(np.zeros((nstates,)), policy_evaluation_operator, default_termination)"
      ],
      "execution_count": 210,
      "outputs": [
        {
          "output_type": "stream",
          "text": [
            "[1. 1.]\n"
          ],
          "name": "stdout"
        }
      ]
    },
    {
      "cell_type": "markdown",
      "metadata": {
        "id": "Rfs7k0_n731a",
        "colab_type": "text"
      },
      "source": [
        "The following should return true:"
      ]
    },
    {
      "cell_type": "code",
      "metadata": {
        "id": "1nHxm0XA7fae",
        "colab_type": "code",
        "outputId": "f583baea-8cb0-4ee6-bdf7-4c619341d4fe",
        "colab": {
          "base_uri": "https://localhost:8080/",
          "height": 34
        }
      },
      "source": [
        "np.allclose(solution, [1/(1-discount)]*nstates)"
      ],
      "execution_count": 211,
      "outputs": [
        {
          "output_type": "execute_result",
          "data": {
            "text/plain": [
              "DeviceArray(True, dtype=bool)"
            ]
          },
          "metadata": {
            "tags": []
          },
          "execution_count": 211
        }
      ]
    },
    {
      "cell_type": "markdown",
      "metadata": {
        "id": "lzBiQoj48Div",
        "colab_type": "text"
      },
      "source": [
        "Now we can also make sure that the solution found by succesive approximation matches the closed-form solution which we would obtain using a direct method. "
      ]
    },
    {
      "cell_type": "code",
      "metadata": {
        "id": "asgiFX-z8C8x",
        "colab_type": "code",
        "colab": {}
      },
      "source": [
        "def direct_policy_evaluation(P, R, discount, policy):\n",
        "  # Add your implementation below. Avoid explicit matrix inverses\n",
        "  # You should be able to do this in 3 lines or less.\n",
        "  p_pi = np.einsum('ijk,ji->jk', P, policy)\n",
        "  #print(\"p_pi \", p_pi)\n",
        "  discounted_p_pi = discount * p_pi\n",
        "  a = np.subtract(np.identity(P.shape[-1]), discounted_p_pi)\n",
        "  #print(\"a \", a)\n",
        "\n",
        "  r_pi = np.einsum('ij, ij -> i', policy, R)\n",
        "  #print(\"r_pi \", r_pi)\n",
        "  return np.linalg.solve(a, r_pi)"
      ],
      "execution_count": 0,
      "outputs": []
    },
    {
      "cell_type": "code",
      "metadata": {
        "id": "UKBPMSD58qex",
        "colab_type": "code",
        "colab": {}
      },
      "source": [
        "solution = direct_policy_evaluation(P, reward_all_ones, discount, uniform_policy)"
      ],
      "execution_count": 0,
      "outputs": []
    },
    {
      "cell_type": "markdown",
      "metadata": {
        "id": "ebRl21Rk88EU",
        "colab_type": "text"
      },
      "source": [
        "This should once again return true: "
      ]
    },
    {
      "cell_type": "code",
      "metadata": {
        "id": "yySrLUSO8-BH",
        "colab_type": "code",
        "outputId": "297ff74d-9c83-49a8-d427-891c44496608",
        "colab": {
          "base_uri": "https://localhost:8080/",
          "height": 34
        }
      },
      "source": [
        "np.allclose(solution, [1/(1-discount)]*nstates)"
      ],
      "execution_count": 214,
      "outputs": [
        {
          "output_type": "execute_result",
          "data": {
            "text/plain": [
              "DeviceArray(True, dtype=bool)"
            ]
          },
          "metadata": {
            "tags": []
          },
          "execution_count": 214
        }
      ]
    },
    {
      "cell_type": "markdown",
      "metadata": {
        "id": "hWdYO4Pk7SA2",
        "colab_type": "text"
      },
      "source": [
        "## Projected Policy Evaluation Operator\n",
        "\n",
        "We have seen that the projected policy evaluation equations can be solved either in closed form or iteratively using the projected (Bellman) policy evaluation operator. \n",
        "\n",
        "Because the projection is taken with respect to a weighted Euclidean distance, you have to compute the entries of the diagonal matrix $X$ by solving for the stationary distribution of the given policy in the MDP. \n",
        "\n",
        "Remember that a stationary distribution $x$ must satisfy $x^\\top P = x^\\top$, \n",
        "where $x^\\top \\mathbf{1} = 1 \\in \\mathbb{R}^{|\\mathcal{S}|}$ and $P \\in \\mathbb{R}^{|\\mathcal{S}| \\times |\\mathcal{S}|}$. Therfore, $x^\\top$ is a left eigenvector of $P$. By the [Perron-Frobenius theorem](https://en.wikipedia.org/wiki/Perron%E2%80%93Frobenius_theorem), we know that there exists a eigenvalue of maximum modulus which is a real positive number: the Perron root. For stochastic matrices, the Perron root (the spectral radis) is equal to 1. Furthermore, the eigenvector associated with the Perron root (the Perron vector) has only positive components. \n",
        "\n",
        "You can use numpy to find the eigendecomposition of the stochastic matrix, isolate the Perron vector (through the Perron root) and normalize the resulting vector so that it sums up to one. \n",
        "\n",
        "Alternatively, you could also choose to view the problem of finding a solution to $x^\\top P = x^\\top$ as a fixed-point problem and use the above ``successive_approximation`` function with the appropriate operator. Note however that the zero vector is a trivial solution of this problem, and you should make sure not to initialize from this point.\n",
        "\n",
        "In the following, implement a function to compute the stationary distribution for a given transition matrix:"
      ]
    },
    {
      "cell_type": "code",
      "metadata": {
        "id": "WPQsu8DMtfdk",
        "colab_type": "code",
        "colab": {}
      },
      "source": [
        "def stationary_distribution(P):\n",
        "  # Compute stationary distribution here\n",
        "  w, v = np.linalg.eig(P.T)\n",
        "  for i, e in enumerate(w):\n",
        "    if np.isclose(e, 1.):\n",
        "      return v[:,i] / np.sum(v[:,i])"
      ],
      "execution_count": 0,
      "outputs": []
    },
    {
      "cell_type": "markdown",
      "metadata": {
        "id": "Kp4olEZDtiiX",
        "colab_type": "text"
      },
      "source": [
        "We can now use this function to pre-compute the stationary distribution and use it to form the projected policy evaluation operator:"
      ]
    },
    {
      "cell_type": "code",
      "metadata": {
        "id": "6s9_7Pc4PtB2",
        "colab_type": "code",
        "colab": {}
      },
      "source": [
        "def make_pvi_operator(P, R, discount, policy, phi):\n",
        "  # Compute A and b matrices here\n",
        "  p_pi = np.einsum('ijk,ji->jk', P, policy)\n",
        "\n",
        "  x = stationary_distribution(p_pi) \n",
        "  phitx = np.einsum('ij,jk->ik', phi.T, np.diag(x))\n",
        "\n",
        "  a = np.subtract(np.identity(P.shape[-1]), discount * p_pi)\n",
        "  phitx_a = np.einsum('ij, jk->ik', phitx, a)\n",
        "  A = np.einsum('ij, jk->ik', phitx_a, phi)\n",
        "\n",
        "  r_pi = np.einsum('ij, ij -> i', policy, R)\n",
        "  b = np.einsum('ij, j->i', phitx, r_pi)\n",
        "\n",
        "  def pvi_operator(w):\n",
        "    # Compute projection here, without forming matrix inverse explicitely\n",
        "    phitx_phi = np.einsum('ij, jk->ik', phitx, phi)\n",
        "    c_wk = np.einsum('ij, j->i', phitx_phi, w)\n",
        "\n",
        "    A_wk = np.einsum('ij, j->i', A, w)\n",
        "\n",
        "    rhs = np.subtract( np.add(c_wk, b), A_wk)\n",
        "    return np.linalg.solve(phitx_phi, rhs)\n",
        "  return pvi_operator  "
      ],
      "execution_count": 0,
      "outputs": []
    },
    {
      "cell_type": "markdown",
      "metadata": {
        "id": "MhkXt45ROshY",
        "colab_type": "text"
      },
      "source": [
        "As a sanity check, we can verify that we obtain the exact solution when using *one-hot*  (tabular) features."
      ]
    },
    {
      "cell_type": "code",
      "metadata": {
        "id": "KpDJX2HE7g8G",
        "colab_type": "code",
        "colab": {}
      },
      "source": [
        "one_hot_features = np.eye(nstates)"
      ],
      "execution_count": 0,
      "outputs": []
    },
    {
      "cell_type": "code",
      "metadata": {
        "id": "CyV5tIUS7cN1",
        "colab_type": "code",
        "colab": {
          "base_uri": "https://localhost:8080/",
          "height": 34
        },
        "outputId": "f2566d58-32d8-477a-8015-e9424e9fefe5"
      },
      "source": [
        "pvi_operator = make_pvi_operator(P, reward_all_ones, discount, uniform_policy, one_hot_features)\n",
        "solution = successive_approximation(np.zeros(nstates), pvi_operator, default_termination)"
      ],
      "execution_count": 218,
      "outputs": [
        {
          "output_type": "stream",
          "text": [
            "[1.+0.j 1.+0.j]\n"
          ],
          "name": "stdout"
        }
      ]
    },
    {
      "cell_type": "markdown",
      "metadata": {
        "id": "NO-O2CcN7rPP",
        "colab_type": "text"
      },
      "source": [
        "Because we used the reward function which is one everywhere, we should also find that the expected return is $1/(1-\\gamma)$. \n",
        "\n",
        "This test should also return true:"
      ]
    },
    {
      "cell_type": "code",
      "metadata": {
        "id": "eDr6icJh7ulj",
        "colab_type": "code",
        "outputId": "23c4bb7d-4c1d-4e83-aa90-e1af4f671656",
        "colab": {
          "base_uri": "https://localhost:8080/",
          "height": 34
        }
      },
      "source": [
        "np.allclose(one_hot_features @ solution, [1/(1-discount)]*nstates)"
      ],
      "execution_count": 219,
      "outputs": [
        {
          "output_type": "execute_result",
          "data": {
            "text/plain": [
              "DeviceArray(True, dtype=bool)"
            ]
          },
          "metadata": {
            "tags": []
          },
          "execution_count": 219
        }
      ]
    },
    {
      "cell_type": "markdown",
      "metadata": {
        "id": "nXzvaE3sv8c3",
        "colab_type": "text"
      },
      "source": [
        "A non-iterative alternative to the above PVI algorithm is simply to solve for the projected policy evaluation equations using a direct method. Implement the projected counterpart to the above ``direct_policy_evaluation`` method."
      ]
    },
    {
      "cell_type": "code",
      "metadata": {
        "id": "bV52XImau62l",
        "colab_type": "code",
        "colab": {}
      },
      "source": [
        "def direct_projected_policy_evaluation(P, R, discount, policy, phi):\n",
        "  # Compute A and b matrices here\n",
        "  p_pi = np.einsum('ijk,ji->jk', P, policy)\n",
        "\n",
        "  x = stationary_distribution(p_pi) \n",
        "  phitx = np.einsum('ij,jk->ik', phi.T, np.diag(x))\n",
        "\n",
        "  a = np.subtract(np.identity(P.shape[-1]), discount*p_pi)\n",
        "  phitx_a = np.einsum('ij, jk->ik', phitx, a)\n",
        "  A = np.einsum('ij, jk->ik', phitx_a, phi)\n",
        "\n",
        "  r_pi = np.einsum('ij, ij -> i', policy, R)\n",
        "  b = np.einsum('ij, j->i', phitx, r_pi)\n",
        "  return np.linalg.solve(A, b)"
      ],
      "execution_count": 0,
      "outputs": []
    },
    {
      "cell_type": "code",
      "metadata": {
        "id": "EJWu8bOxvrlp",
        "colab_type": "code",
        "colab": {}
      },
      "source": [
        "solution = direct_projected_policy_evaluation(P, reward_all_ones, discount, uniform_policy, one_hot_features)"
      ],
      "execution_count": 0,
      "outputs": []
    },
    {
      "cell_type": "code",
      "metadata": {
        "id": "33ocbZkcv6pV",
        "colab_type": "code",
        "outputId": "55140c29-24a2-470a-f699-ad417ae8fe12",
        "colab": {
          "base_uri": "https://localhost:8080/",
          "height": 34
        }
      },
      "source": [
        "np.allclose(one_hot_features @ solution, [1/(1-discount)]*nstates)"
      ],
      "execution_count": 222,
      "outputs": [
        {
          "output_type": "execute_result",
          "data": {
            "text/plain": [
              "DeviceArray(True, dtype=bool)"
            ]
          },
          "metadata": {
            "tags": []
          },
          "execution_count": 222
        }
      ]
    },
    {
      "cell_type": "markdown",
      "metadata": {
        "id": "absD_AHc6Hr2",
        "colab_type": "text"
      },
      "source": [
        "### Bertsekas Bound\n",
        "\n",
        "Verify that the bound in proposition 6.3.1 for Bertsekas holds. Use the direct of iterative policy evaluation methods to compute all the terms in the bound. \n",
        "\n",
        "Test for the synthetic MDP with a uniform policy and tabular features. Then generate a random full-rank matrix of features and repeat the exercise."
      ]
    },
    {
      "cell_type": "code",
      "metadata": {
        "id": "FKSjhO1f4ci-",
        "colab_type": "code",
        "colab": {}
      },
      "source": [
        "# verifying Bertsekas bound\n",
        "\n",
        "\n",
        "# solution = direct_policy_evaluation(P, reward_all_ones, discount, uniform_policy)\n",
        "# projected_solution = direct_projected_policy_evaluation(P, reward_all_ones, discount, uniform_policy, one_hot_features)\n",
        "\n"
      ],
      "execution_count": 0,
      "outputs": []
    },
    {
      "cell_type": "markdown",
      "metadata": {
        "id": "VyMzMoLO9OWt",
        "colab_type": "text"
      },
      "source": [
        "# Optimality Equations\n",
        "\n",
        "As usual, I advise you to use [np.einsum](https://docs.scipy.org/doc/numpy/reference/generated/numpy.einsum.html) to implement the following optimality operators. Note that in all cases, the following operators act on vectors $v \\in \\mathbb{R}^{|\\mathcal{S}|}$ and not on Q-factors $Q \\in \\mathbb{R}^{|\\mathcal{S}|\\times|\\mathcal{A}|}$. "
      ]
    },
    {
      "cell_type": "code",
      "metadata": {
        "id": "wobqDMBU9Yd5",
        "colab_type": "code",
        "colab": {}
      },
      "source": [
        "def make_bellman_optimality_operator(P, R, discount):\n",
        "  def bellman_optimality_operator(v):\n",
        "    # This should be a one-liner\n",
        "    #print(\"P \", P)\n",
        "    #print(\"R \", R)\n",
        "    return np.max(np.add(R, discount * np.einsum('ijk,k->ji', P, v)), axis=1)\n",
        "  return bellman_optimality_operator"
      ],
      "execution_count": 0,
      "outputs": []
    },
    {
      "cell_type": "markdown",
      "metadata": {
        "id": "s7VKL_yRRmNn",
        "colab_type": "text"
      },
      "source": [
        "Now do the same thing but where you use the [soft-max](https://en.wikipedia.org/wiki/Smooth_maximum) (smooth maximum) instead of the *hard* one. You can use the built-in implementations of the soft-max function for more stability. See [Rust (1996)](https://doi.org/10.1016/s1574-0021(96)01016-7) for reference"
      ]
    },
    {
      "cell_type": "code",
      "metadata": {
        "id": "iiM5UyHqPSRC",
        "colab_type": "code",
        "colab": {}
      },
      "source": [
        "from jax.experimental.stax import softmax\n",
        "from scipy.special import logsumexp\n",
        "\n",
        "def make_smooth_bellman_optimality_operator(P, R, discount, temperature):\n",
        "  def smooth_bellman_optimality_operator(v):\n",
        "    # This should be a one-liner\n",
        "    \n",
        "    #softmaxed = softmax(1./temperature * v)\n",
        "    #softmaxed_v = np.einsum('i,i->i', softmaxed, v)\n",
        "    #r_pv = np.sum(np.add(R, discount * np.einsum('ijk,k->ji', P, softmaxed_v)), axis=-1)\n",
        "    #print(\"P \", P)\n",
        "    #print(\"v \", v)\n",
        "    pv = np.einsum('ijk,k->ji', P, v)\n",
        "    #print(\"pv \", pv)\n",
        "    r_pv = np.add(R, discount * pv)\n",
        "    #print(\"r_pv \", r_pv)\n",
        "    #print(\"r_pv \", r_pv)\n",
        "    temp_lv = 1./temperature * r_pv  \n",
        "    #print(\"temp_lv \", temp_lv)\n",
        "    max_col = np.reshape(np.max(temp_lv, axis=1), newshape=(nstates, 1))\n",
        "    #print(\"max_col \", max_col)\n",
        "    max_mat = np.repeat(max_col, repeats=temp_lv.shape[0], axis=1)\n",
        "    shift_templv =  temp_lv - max_mat\n",
        "    #print(\"shift \", shift_templv)\n",
        "    #s = np.max(temp_lv) + np.log(np.sum(np.exp(shift_templv), axis=1))\n",
        "    s = np.max(temp_lv, axis=1) + np.log(np.sum(np.exp(shift_templv), axis=1))\n",
        "    #print(\"s \", s)\n",
        "    #ss = logsumexp(r_pv, axis=-1, b=1./temperature)\n",
        "    #print(\"ss \", ss)\n",
        "    #print(\"new s \", temperature * s)\n",
        "    return temperature * s\n",
        "  return smooth_bellman_optimality_operator"
      ],
      "execution_count": 0,
      "outputs": []
    },
    {
      "cell_type": "markdown",
      "metadata": {
        "id": "J4jtWev0BHKR",
        "colab_type": "text"
      },
      "source": [
        "We can apply the same sanity check for the optimality equations and use a reward function where all components are set to $1$. The following loop goes over the *hard* and smooth optimality operators and verifies that we recover the optimal value function in all cases:\n",
        "\n"
      ]
    },
    {
      "cell_type": "code",
      "metadata": {
        "id": "wpeftUNq-Q8o",
        "colab_type": "code",
        "outputId": "9857dc7b-226c-417a-b0ce-c029da86ae6e",
        "colab": {
          "base_uri": "https://localhost:8080/",
          "height": 85
        }
      },
      "source": [
        "default_temperature = 1e-5\n",
        "\n",
        "hard_operator = make_bellman_optimality_operator(P, reward_all_ones, discount)\n",
        "smooth_operator = make_smooth_bellman_optimality_operator(P, reward_all_ones, discount, default_temperature)\n",
        "\n",
        "for operator in [hard_operator, smooth_operator]:\n",
        "  solution = successive_approximation(np.zeros((nstates,)), operator, default_termination)\n",
        "  print(np.allclose(solution, [1/(1-discount)]*nstates))"
      ],
      "execution_count": 267,
      "outputs": [
        {
          "output_type": "stream",
          "text": [
            "[1. 1.]\n",
            "True\n",
            "[1.00000693 1.00000693]\n",
            "True\n"
          ],
          "name": "stdout"
        }
      ]
    },
    {
      "cell_type": "markdown",
      "metadata": {
        "id": "GSc1mIstWHGD",
        "colab_type": "text"
      },
      "source": [
        "Equipped with policy evaluation methods from above, we can also easily define a policy evaluation operator. Note that this time, the operator takes a policy (not a value vector) and returns an improved policy."
      ]
    },
    {
      "cell_type": "code",
      "metadata": {
        "id": "SVM5q4rtWQtr",
        "colab_type": "code",
        "colab": {}
      },
      "source": [
        "def make_policy_iteration_operator(P, R, discount):\n",
        "  def policy_iteration_operator(policy):\n",
        "    v = direct_policy_evaluation(P, R, discount, policy)\n",
        "    argmax_a = np.argmax(np.add(R, discount * np.einsum('ijk,k->ji', P, v)), axis=1)\n",
        "    return np.eye(P.shape[-1])[argmax_a]\n",
        "  return policy_iteration_operator"
      ],
      "execution_count": 0,
      "outputs": []
    },
    {
      "cell_type": "markdown",
      "metadata": {
        "id": "gJbSf-pEkl4N",
        "colab_type": "text"
      },
      "source": [
        "We also have to define a new termination condition, suited to the fact that we iterate over deterministic policies:"
      ]
    },
    {
      "cell_type": "code",
      "metadata": {
        "id": "jbvP63qokiPz",
        "colab_type": "code",
        "colab": {}
      },
      "source": [
        "def policy_iteration_termination(policy_prev, policy):\n",
        "  return np.allclose(policy_prev, policy)"
      ],
      "execution_count": 0,
      "outputs": []
    },
    {
      "cell_type": "markdown",
      "metadata": {
        "id": "muzV3W9xkx1x",
        "colab_type": "text"
      },
      "source": [
        "In a somewhat redundant exercise, you can also define the smooth counterpart to the usual policy iteration by replacing the argmax with the soft-argmax. You can also use a built-in implementation for better numerical stability."
      ]
    },
    {
      "cell_type": "code",
      "metadata": {
        "id": "GCzlaZsykjRj",
        "colab_type": "code",
        "colab": {}
      },
      "source": [
        "from jax.nn import softmax\n",
        "def make_smooth_policy_iteration_operator(P, R, discount, temperature):\n",
        "  def smooth_policy_iteration_operator(policy):\n",
        "    v = direct_policy_evaluation(P, R, discount, policy)\n",
        "\n",
        "    pv = np.einsum('ijk,k->ji', P, v)\n",
        "\n",
        "    temp_lv = 1./temperature * np.add(R, discount*pv)\n",
        "    #normalized = np.exp(temp_lv - temp_lv.max())\n",
        "    #new_policy = temp_lv / np.sum(temp_lv, axis=0)\n",
        "    #return temp_lv / np.sum(temp_lv, axis=0)\n",
        "    return  softmax(temp_lv)\n",
        "  return smooth_policy_iteration_operator"
      ],
      "execution_count": 0,
      "outputs": []
    },
    {
      "cell_type": "markdown",
      "metadata": {
        "id": "_4ViwtCKlBFq",
        "colab_type": "text"
      },
      "source": [
        "The method of sucessive approximation applied to these operators returns a policy as output, if we want to verify that they are indeed optimal, we now need to re-use our policy evaluation code to compute the associated value function.\n",
        "\n",
        "The following should return true twice:"
      ]
    },
    {
      "cell_type": "code",
      "metadata": {
        "id": "_SrQ2ZEZZb73",
        "colab_type": "code",
        "outputId": "ec754312-08b1-430f-cd48-0551e0de5c56",
        "colab": {
          "base_uri": "https://localhost:8080/",
          "height": 68
        }
      },
      "source": [
        "policy_iteration_operator = make_policy_iteration_operator(P, reward_all_ones, discount)\n",
        "policy = successive_approximation(np.zeros((nstates, nactions)), policy_iteration_operator, policy_iteration_termination)\n",
        "solution = direct_policy_evaluation(P, reward_all_ones, discount, policy)\n",
        "print(np.allclose(solution, [1/(1-discount)]*nstates))"
      ],
      "execution_count": 271,
      "outputs": [
        {
          "output_type": "stream",
          "text": [
            "[[1. 0.]\n",
            " [1. 0.]]\n",
            "True\n"
          ],
          "name": "stdout"
        }
      ]
    },
    {
      "cell_type": "code",
      "metadata": {
        "id": "6oqbEfFplicW",
        "colab_type": "code",
        "outputId": "3f2dbe05-12f3-4fb5-a53e-2ea97b565645",
        "colab": {
          "base_uri": "https://localhost:8080/",
          "height": 68
        }
      },
      "source": [
        "smooth_policy_iteration_operator = make_smooth_policy_iteration_operator(P, reward_all_ones, discount, default_temperature)\n",
        "policy = successive_approximation(np.zeros((nstates, nactions)), smooth_policy_iteration_operator, default_termination)\n",
        "solution = direct_policy_evaluation(P, reward_all_ones, discount, policy)\n",
        "print(np.allclose(solution, [1/(1-discount)]*nstates))"
      ],
      "execution_count": 272,
      "outputs": [
        {
          "output_type": "stream",
          "text": [
            "[[0.5 0.5]\n",
            " [0.5 0.5]]\n",
            "True\n"
          ],
          "name": "stdout"
        }
      ]
    },
    {
      "cell_type": "markdown",
      "metadata": {
        "id": "06KXVif-wzlR",
        "colab_type": "text"
      },
      "source": [
        "## Newton-Kantorovich\n",
        "\n",
        "In order to implement Newton-Kantorovich for the smooth Bellman operator, we first use the analytical expression for its Gateaux derivative. See [Rust (1996)](https://doi.org/10.1016/s1574-0021(96)01016-7) for reference"
      ]
    },
    {
      "cell_type": "code",
      "metadata": {
        "id": "dwaLGLLYOrZM",
        "colab_type": "code",
        "colab": {}
      },
      "source": [
        "from jax.experimental.stax import softmax\n",
        "\n",
        "def make_gateaux_derivative(P, R, discount, temperature):\n",
        "  \"\"\" Returns the Gateaux derivative at v of the smooth Bellman operator\n",
        "  \"\"\"\n",
        "  def gateaux_at(v):\n",
        "    \"\"\" Binds v into a function computing the gateaux derivative\n",
        "    \"\"\"\n",
        "    #print(\"P \", P)\n",
        "    pv = np.einsum('ijk,k->ji', P, v)\n",
        "    #print(\"pv \", pv)\n",
        "    d = softmax(1./temperature * np.add(R, discount*pv))\n",
        "    #print(\"d \", d)\n",
        "    def gateaux_direction(w):\n",
        "      \"\"\" Compute the Gateaux derivative at v in the direction of w\n",
        "      \"\"\"\n",
        "      # Add your code here\n",
        "      pw = np.einsum('ijk,k->ji', P, w)\n",
        "      #print(\"pw \", pw)\n",
        "      d_pw = np.einsum('ij, ij -> i', d, pw)\n",
        "      #print(\"d_pw \", d_pw)\n",
        "      return discount * d_pw \n",
        "    return gateaux_direction\n",
        "  return gateaux_at"
      ],
      "execution_count": 0,
      "outputs": []
    },
    {
      "cell_type": "markdown",
      "metadata": {
        "id": "PJOeFmVzPOLo",
        "colab_type": "text"
      },
      "source": [
        "We can also compute this derivative using forward-mode automatic differentiation in [JAX](https://github.com/google/jax). Under the hood, forward-mode automatic differentiation is implemented by defining the jacobian-vector for all primitive operations. This vector-jacobian product corresponds to our notion of directional derivative and the function [vjp](https://jax.readthedocs.io/en/latest/jax.html#jax.jvp) gives us that.\n",
        "\n",
        "The following should return true:"
      ]
    },
    {
      "cell_type": "code",
      "metadata": {
        "id": "Eno-wKxSDa6Y",
        "colab_type": "code",
        "outputId": "f5e1cf29-dd5b-4444-f59c-bdee3cf08d53",
        "colab": {
          "base_uri": "https://localhost:8080/",
          "height": 68
        }
      },
      "source": [
        "from jax import jvp\n",
        "\n",
        "v = np.ones(nstates)/nstates\n",
        "w = np.array([1.,2.])\n",
        "\n",
        "_, tangents = jvp(smooth_operator, (v, ), (w,))\n",
        "deriv = make_gateaux_derivative(P, reward_all_ones, discount, default_temperature)(v)(w)\n",
        "\n",
        "print(\"tangents \", tangents)\n",
        "print(\"deriv \", deriv)\n",
        "np.allclose(tangents, deriv)"
      ],
      "execution_count": 273,
      "outputs": [
        {
          "output_type": "stream",
          "text": [
            "tangents  [1.017 1.35 ]\n",
            "deriv  [1.017 1.35 ]\n"
          ],
          "name": "stdout"
        },
        {
          "output_type": "execute_result",
          "data": {
            "text/plain": [
              "DeviceArray(True, dtype=bool)"
            ]
          },
          "metadata": {
            "tags": []
          },
          "execution_count": 273
        }
      ]
    },
    {
      "cell_type": "markdown",
      "metadata": {
        "id": "iwx2GuDETxbX",
        "colab_type": "text"
      },
      "source": [
        "Equipped with the Gateaux derivative, we can then implement the Newton-Kantorovich algorithm in a generic way. Because Newton-Kantorovich involves taking an inverse, we need to be careful as to how we implement this step. A naive approach would consists in forming the full Jacobian and directly calling [np.linalg.solve](https://docs.scipy.org/doc/numpy/reference/generated/numpy.linalg.solve.html). But we can do better! Using a classical iterative method, all we require is to be able to take matrix-vector products, or more abstractly, to be able to apply an operator to any vector.  \n",
        "\n",
        "In the following, you have to build such method by defining the appropriate operator. Note that this operator has the same form as the policy evalution one, but for $I - A$ and where $A$ need not be a stochastic matrix (but we still need the spectral radius $\\sigma(I - A) < 1$)."
      ]
    },
    {
      "cell_type": "code",
      "metadata": {
        "id": "KG7PuddtWxjM",
        "colab_type": "code",
        "colab": {}
      },
      "source": [
        "def basic_iterative_solver(A, b):\n",
        "  \"\"\" Solves $Ax = b$, assuming that the spectral radius of $I - A$ is \n",
        "  strictly less than 1. We assume that $A$ is a callable $A(v)$.\n",
        "  \"\"\"\n",
        "  def operator(x):\n",
        "    \"\"\" Basic iterative step without preconditioning \n",
        "    (you can add preconditioning if you feel like)\n",
        "\n",
        "    This is what you would obtain by writting the Neumann series epxansion of \n",
        "    $A$ recursively. \n",
        "    \"\"\"\n",
        "    # Add your code here. This is a one-liner\n",
        "    return b + x - A(x)\n",
        "  return successive_approximation(np.zeros(b.shape), operator, default_termination)"
      ],
      "execution_count": 0,
      "outputs": []
    },
    {
      "cell_type": "markdown",
      "metadata": {
        "id": "wJ38sPm4TTrv",
        "colab_type": "text"
      },
      "source": [
        "Now refer to the course notes or [Rust (1996)](https://doi.org/10.1016/s1574-0021(96)01016-7) for the general structure of Newton-Kantorovich iterations and implement the corresponding operator:"
      ]
    },
    {
      "cell_type": "code",
      "metadata": {
        "id": "PkZfRM_zSO8R",
        "colab_type": "code",
        "colab": {}
      },
      "source": [
        "def make_newton_kantorovich(operator, gateaux_derivative):\n",
        "  \"\"\" Newton-Kantorovich method with matrix-free iterative solver\n",
        "  \"\"\"\n",
        "  def newton_kantorovich(v):\n",
        "    # One-liner using the above basic_iterative_solver\n",
        "    w =  v - operator(v)\n",
        "    A = gateaux_derivative(v)\n",
        "    gd = basic_iterative_solver(A, w)\n",
        "    return np.subtract(v, gd)\n",
        "  return newton_kantorovich"
      ],
      "execution_count": 0,
      "outputs": []
    },
    {
      "cell_type": "markdown",
      "metadata": {
        "id": "823YSItRTjEy",
        "colab_type": "text"
      },
      "source": [
        "As usual, we verify that we find the optimal value function when all rewards are one. The following should return true:"
      ]
    },
    {
      "cell_type": "code",
      "metadata": {
        "id": "0VWDl1nhT_pr",
        "colab_type": "code",
        "outputId": "099c6237-d8d0-4864-928c-20c9a976e889",
        "colab": {
          "base_uri": "https://localhost:8080/",
          "height": 1000
        }
      },
      "source": [
        "smooth_operator = make_smooth_bellman_optimality_operator(P, reward_all_ones, discount, default_temperature)\n",
        "gateaux_derivative = make_gateaux_derivative(P, reward_all_ones, discount, default_temperature)\n",
        "\n",
        "newton_kantorovich_operator = make_newton_kantorovich(smooth_operator, gateaux_derivative)\n",
        "solution = successive_approximation(np.zeros((nstates,)), newton_kantorovich_operator, default_termination)\n",
        "print(np.allclose(solution, [1/(1-discount)]*nstates))"
      ],
      "execution_count": 276,
      "outputs": [
        {
          "output_type": "stream",
          "text": [
            "[-1.00000693 -1.00000693]\n",
            "[1.11111881 1.11111881]\n",
            "[-0.88889505 -0.88889505]\n",
            "[-0.79012893 -0.79012893]\n",
            "[-0.70233683 -0.70233683]\n",
            "[-0.6242994 -0.6242994]\n",
            "[-0.5549328 -0.5549328]\n",
            "[-0.4932736 -0.4932736]\n",
            "[-0.43846543 -0.43846543]\n",
            "[-0.38974704 -0.38974704]\n",
            "[-0.34644182 -0.34644182]\n",
            "[-0.30794828 -0.30794828]\n",
            "[-0.27373181 -0.27373181]\n",
            "[-0.24331716 -0.24331716]\n",
            "[-0.21628192 -0.21628192]\n",
            "[-0.1922506 -0.1922506]\n",
            "[-0.17088942 -0.17088942]\n",
            "[-0.15190171 -0.15190171]\n",
            "[-0.13502374 -0.13502374]\n",
            "[-0.1200211 -0.1200211]\n",
            "[-0.10668542 -0.10668542]\n",
            "[-0.09483149 -0.09483149]\n",
            "[-0.08429466 -0.08429466]\n",
            "[-0.07492858 -0.07492858]\n",
            "[-0.06660318 -0.06660318]\n",
            "[-0.05920283 -0.05920283]\n",
            "[-0.05262474 -0.05262474]\n",
            "[-0.04677755 -0.04677755]\n",
            "[-0.04158004 -0.04158004]\n",
            "[-0.03696004 -0.03696004]\n",
            "[-0.03285337 -0.03285337]\n",
            "[-0.02920299 -0.02920299]\n",
            "[-0.02595821 -0.02595821]\n",
            "[-0.02307397 -0.02307397]\n",
            "[-0.02051019 -0.02051019]\n",
            "[-0.01823128 -0.01823128]\n",
            "[-0.01620559 -0.01620559]\n",
            "[-0.01440497 -0.01440497]\n",
            "[-0.01280441 -0.01280441]\n",
            "[-0.0113817 -0.0113817]\n",
            "[-0.01011707 -0.01011707]\n",
            "[-0.00899295 -0.00899295]\n",
            "[-0.00799373 -0.00799373]\n",
            "[-0.00710554 -0.00710554]\n",
            "[-0.00631604 -0.00631604]\n",
            "[-0.00561425 -0.00561425]\n",
            "[-0.00499045 -0.00499045]\n",
            "[-0.00443595 -0.00443595]\n",
            "[-0.00394307 -0.00394307]\n",
            "[-0.00350495 -0.00350495]\n",
            "[-0.00311551 -0.00311551]\n",
            "[-0.00276934 -0.00276934]\n",
            "[-0.00246164 -0.00246164]\n",
            "[-0.00218812 -0.00218812]\n",
            "[-0.001945 -0.001945]\n",
            "[-0.00172889 -0.00172889]\n",
            "[-0.00153679 -0.00153679]\n",
            "[-0.00136604 -0.00136604]\n",
            "[-0.00121425 -0.00121425]\n",
            "[-0.00107934 -0.00107934]\n",
            "[-0.00095941 -0.00095941]\n",
            "[-0.00085281 -0.00085281]\n",
            "[-0.00075805 -0.00075805]\n",
            "[-0.00067382 -0.00067382]\n",
            "[-0.00059896 -0.00059896]\n",
            "[-0.0005324 -0.0005324]\n",
            "[-0.00047325 -0.00047325]\n",
            "[-0.00042067 -0.00042067]\n",
            "[-0.00037392 -0.00037392]\n",
            "[-0.00033238 -0.00033238]\n",
            "[-0.00029545 -0.00029545]\n",
            "[-0.00026262 -0.00026262]\n",
            "[-0.00023344 -0.00023344]\n",
            "[-0.0002075 -0.0002075]\n",
            "[-0.00018445 -0.00018445]\n",
            "[-0.00016395 -0.00016395]\n",
            "[-0.00014574 -0.00014574]\n",
            "[-0.00012954 -0.00012954]\n",
            "[-0.00011515 -0.00011515]\n",
            "[-0.00010235 -0.00010235]\n",
            "[-9.09818524e-05 -9.09818524e-05]\n",
            "[-8.08727678e-05 -8.08727678e-05]\n",
            "[-7.18869137e-05 -7.18869137e-05]\n",
            "[-6.38994868e-05 -6.38994868e-05]\n",
            "[-5.67996149e-05 -5.67996149e-05]\n",
            "[-5.04886096e-05 -5.04886096e-05]\n",
            "[-4.48788202e-05 -4.48788202e-05]\n",
            "[-3.98923345e-05 -3.98923345e-05]\n",
            "[-3.54598972e-05 -3.54598972e-05]\n",
            "[-3.1519948e-05 -3.1519948e-05]\n",
            "[-2.80177666e-05 -2.80177666e-05]\n",
            "[-2.49047126e-05 -2.49047126e-05]\n",
            "[-2.213755e-05 -2.213755e-05]\n",
            "[-1.96778468e-05 -1.96778468e-05]\n",
            "[-1.74914412e-05 -1.74914412e-05]\n",
            "[-1.55479672e-05 -1.55479672e-05]\n",
            "[-1.38204326e-05 -1.38204326e-05]\n",
            "[-1.22848443e-05 -1.22848443e-05]\n",
            "[-1.09198752e-05 -1.09198752e-05]\n",
            "[-9.70656791e-06 -9.70656791e-06]\n",
            "[-8.62807115e-06 -8.62807115e-06]\n",
            "[-7.66940616e-06 -7.66940616e-06]\n",
            "[-6.81725844e-06 -6.81725844e-06]\n",
            "[-6.05986103e-06 -6.05986103e-06]\n",
            "[-5.38661047e-06 -5.38661047e-06]\n",
            "[-4.78815805e-06 -4.78815805e-06]\n",
            "[-4.25619369e-06 -4.25619369e-06]\n",
            "[-3.78333057e-06 -3.78333057e-06]\n",
            "[-3.36300254e-06 -3.36300254e-06]\n",
            "[-2.98937296e-06 -2.98937296e-06]\n",
            "[-2.65725362e-06 -2.65725362e-06]\n",
            "[-2.36203275e-06 -2.36203275e-06]\n",
            "[-2.09961091e-06 -2.09961091e-06]\n",
            "[-1.86634414e-06 -1.86634414e-06]\n",
            "[-1.6589933e-06 -1.6589933e-06]\n",
            "[-1.47467915e-06 -1.47467915e-06]\n",
            "[-1.31084229e-06 -1.31084229e-06]\n",
            "[-1.16520772e-06 -1.16520772e-06]\n",
            "[-1.03575314e-06 -1.03575314e-06]\n",
            "[-9.20680964e-07 -9.20680966e-07]\n",
            "[-8.18393309e-07 -8.18393307e-07]\n",
            "[-7.27469812e-07 -7.27469812e-07]\n",
            "[-6.46647916e-07 -6.46647916e-07]\n",
            "[-5.74869997e-07 -5.74869997e-07]\n",
            "[-5.11059428e-07 -5.11059428e-07]\n",
            "[-4.54331831e-07 -4.54331831e-07]\n",
            "[-4.03900998e-07 -4.03900998e-07]\n",
            "[-3.59067988e-07 -3.59067988e-07]\n",
            "[-3.19211441e-07 -3.19211441e-07]\n",
            "[-2.8377897e-07 -2.8377897e-07]\n",
            "[-2.52279506e-07 -2.52279506e-07]\n",
            "[-2.2427648e-07 -2.2427648e-07]\n",
            "[-1.99381791e-07 -1.99381791e-07]\n",
            "[-1.77250412e-07 -1.77250412e-07]\n",
            "[-1.57575617e-07 -1.57575617e-07]\n",
            "[-1.40084722e-07 -1.40084722e-07]\n",
            "[-1.24535319e-07 -1.24535319e-07]\n",
            "[-1.10711898e-07 -1.10711900e-07]\n",
            "[-9.8422877e-08 -9.8422877e-08]\n",
            "[-8.74979378e-08 -8.74979360e-08]\n",
            "[-7.77856677e-08 -7.77856677e-08]\n",
            "[-6.91514579e-08 -6.91514579e-08]\n",
            "[-6.15447977e-08 -6.15447977e-08]\n",
            "[-5.47748691e-08 -5.47748691e-08]\n",
            "[-4.87496337e-08 -4.87496337e-08]\n",
            "[-4.33871747e-08 -4.33871747e-08]\n",
            "[-3.86145853e-08 -3.86145853e-08]\n",
            "[-3.43669804e-08 -3.43669804e-08]\n",
            "[-3.05866124e-08 -3.05866124e-08]\n",
            "[-2.72220859e-08 -2.72220859e-08]\n",
            "[-2.42276563e-08 -2.42276563e-08]\n",
            "[-2.15626148e-08 -2.15626148e-08]\n",
            "[-1.91907272e-08 -1.91907272e-08]\n",
            "[-1.70797456e-08 -1.70797456e-08]\n",
            "[-1.52009747e-08 -1.52009765e-08]\n",
            "[-1.35288669e-08 -1.35288669e-08]\n",
            "[-1.20406920e-08 -1.20406902e-08]\n",
            "[-1.07162155e-08 -1.07162155e-08]\n",
            "[-9.53743218e-09 -9.53743218e-09]\n",
            "[-8.48831405e-09 -8.48831405e-09]\n",
            "[-7.5546005e-09 -7.5546005e-09]\n",
            "[-6.72359413e-09 -6.72359413e-09]\n",
            "True\n"
          ],
          "name": "stdout"
        }
      ]
    },
    {
      "cell_type": "markdown",
      "metadata": {
        "id": "S2MSqa0a73w0",
        "colab_type": "text"
      },
      "source": [
        "# Trajectories in the Polytope\n",
        "\n",
        "Sample $1000$ policies at random. Using either the closed-form expression or via successive approximation, compute the value function corresponding to each of them. Plot the mapping $\\pi \\mapsto v_\\pi$ using [matplotlib.pyplot.scatter](https://matplotlib.org/api/_as_gen/matplotlib.pyplot.scatter.html) (the x axis is $v(s_0)$ and the y axis is $v(s_1))$. Enumerate all possible deterministic policies, compute their value functions and plot them. \n",
        "\n",
        "To do so, you may want to define a new function which generalizes the above ``direct_policy_evaluation`` to the case where you have a batch of policies (let's say as a multidimensional array of size $n \\times |\\mathcal{S}| \\times |\\mathcal{A}|$ where $n$ is the number of policies). This can be done easily by just changing the indices in the Einstein summation since [numpy.linalg.solve](https://docs.scipy.org/doc/numpy/reference/generated/numpy.linalg.solve.html) supports *batched*  linear systems out-of-the-box.\n"
      ]
    },
    {
      "cell_type": "code",
      "metadata": {
        "id": "dS4QqHzOUFlr",
        "colab_type": "code",
        "outputId": "ae3e9a20-2c6d-4f8a-c52a-ae13f38244cb",
        "colab": {
          "base_uri": "https://localhost:8080/",
          "height": 316
        }
      },
      "source": [
        "def batch_policy_evaluation(P, R, discount, policies):\n",
        "\n",
        "  discounted_p_pi = discount * np.einsum('ijk,lji->ljk', P, policies)\n",
        "  a = np.subtract(np.identity(P.shape[-1]), discounted_p_pi)\n",
        "\n",
        "  rpi = np.einsum('ij, lij -> li', R, policies)\n",
        "  return np.linalg.solve(a, rpi)\n",
        "\n",
        "\n",
        "import numpy.random as npr\n",
        "alphas = [0.5, 0.5]\n",
        "policies = npr.dirichlet(alpha=alphas, size=(1000, nstates))\n",
        "#policies = policies / np.sum(policies, axis=-1, keepdims=True)\n",
        "\n",
        "import matplotlib.pyplot as plt\n",
        "\n",
        "vs = batch_policy_evaluation(*mdp, policies)\n",
        "\n",
        "random_int = npr.randint(0,1000)\n",
        "\n",
        "print(\"vs \", vs[random_int,:])\n",
        "print(\"policies \", policies[random_int,:])\n",
        "\n",
        "x = vs[:,0]\n",
        "y = vs[:,1]\n",
        "#xlim_min = min(x)\n",
        "#xlim_max = max(x)\n",
        "#print(xlim_min, xlim_max)\n",
        "\n",
        "#ylim_min = min(y)\n",
        "#ylim_max = max(y)\n",
        "#print(ylim_min, ylim_max)\n",
        "\n",
        "#eps = 1e-1\n",
        "#plt.xlim(xlim_min-eps, xlim_max+eps)\n",
        "#plt.ylim(ylim_min-eps, ylim_max+eps)\n",
        "plt.scatter(x, y)\n",
        "\n",
        "def fill(all_lists, part_list, i):\n",
        "  if i == nstates:\n",
        "    all_lists.append(part_list)\n",
        "  else:\n",
        "    for j in range(nactions):\n",
        "      cur_list = list(part_list)\n",
        "      cur_list.append(j)\n",
        "      fill(all_lists, cur_list, i + 1)\n",
        "\n",
        "deterministic_policies= []\n",
        "fill(deterministic_policies, [], 0)\n",
        "\n",
        "det_policies = []\n",
        "for pol in deterministic_policies:\n",
        "  det_policies += [np.eye(P.shape[-1])[pol]]\n",
        "\n",
        "det_policies = np.stack(det_policies)\n",
        "\n",
        "det_vs = batch_policy_evaluation(*mdp, det_policies)\n",
        "det_x = det_vs[:,0]\n",
        "det_y = det_vs[:,1] \n",
        "\n",
        "plt.scatter(det_x, det_y, c='red')\n",
        "plt.show()\n"
      ],
      "execution_count": 278,
      "outputs": [
        {
          "output_type": "stream",
          "text": [
            "vs  [-2.28834759  0.01520534]\n",
            "policies  [[0.00175009 0.99824991]\n",
            " [0.94387918 0.05612082]]\n"
          ],
          "name": "stdout"
        },
        {
          "output_type": "display_data",
          "data": {
            "image/png": "[encoded data removed]",
            "text/plain": [
              "<Figure size 432x288 with 1 Axes>"
            ]
          },
          "metadata": {
            "tags": []
          }
        }
      ]
    },
    {
      "cell_type": "markdown",
      "metadata": {
        "id": "ZKRoPg0qUJU_",
        "colab_type": "text"
      },
      "source": [
        "Overlay (with a different color) the trajectories taken by value iteration, smooth value iteration and Newton-Kantorovich. To do so, compute the greedy policy for each iterate and solve (policy evaluation) for its corresponding value function. Plot all such points.\n",
        "\n",
        "To get those iterates, you can call the function ``generate_iterates`` directly and consume the generator using the ``list()`` keyword:"
      ]
    },
    {
      "cell_type": "code",
      "metadata": {
        "id": "BWuaD7IR3aT_",
        "colab_type": "code",
        "outputId": "b4c953ec-f94a-4aed-d5e8-deef50c608a5",
        "colab": {
          "base_uri": "https://localhost:8080/",
          "height": 316
        }
      },
      "source": [
        "# Example:\n",
        "starting_v = np.array([-2.45884356, -1.77760149])\n",
        "print(starting_v)\n",
        "#print(\"starting_v \", starting_v)\n",
        "bellman_optimality_operator = make_bellman_optimality_operator(*mdp)\n",
        "trajectory = generate_iterates(np.zeros(nstates,), bellman_optimality_operator, default_termination)\n",
        "\n",
        "px = []\n",
        "py = []\n",
        "\n",
        "#new_v = np.add(R, discount * np.einsum('ijk,k->ij', P, starting_v))\n",
        "#print(\"new_v \", new_v)\n",
        "#argmax_a = np.argmax(new_v, axis=1)\n",
        "#print(\"argmax_a \", argmax_a)\n",
        "#pol = np.eye(P.shape[-1])[argmax_a]\n",
        "#print(\"starting v pol \", pol)\n",
        "#policy_evaluation_operator = make_policy_evaluation_operator(*mdp, pol)\n",
        "#pol_v = direct_policy_evaluation(*mdp, pol)\n",
        "\n",
        "#plt.scatter(starting_v[0], starting_v[1], c='black')\n",
        "#plt.scatter(pol_v[0], pol_v[1], c='black')\n",
        "\n",
        "\n",
        "for e in list(trajectory):\n",
        "  #print(\"e \", e)\n",
        "  argmax_a = np.argmax(np.add(R, discount * np.einsum('ijk,k->ji', P, e)), axis=1)\n",
        "  pol = np.eye(P.shape[-1])[argmax_a]\n",
        "  #policy_evaluation_operator = make_policy_evaluation_operator(*mdp, pol)\n",
        "  #pol_v = policy_evaluation_operator(e)\n",
        "  pol_v = direct_policy_evaluation(*mdp, pol)\n",
        "  px.append(e[0])\n",
        "  py.append(e[1])\n",
        "\n",
        "plt.scatter(x, y)\n",
        "plt.scatter(det_x, det_y, c='red')\n",
        "plt.scatter(px, py, c='black')\n",
        "plt.show()\n",
        "\n",
        "print(\"Done 1\")"
      ],
      "execution_count": 40,
      "outputs": [
        {
          "output_type": "stream",
          "text": [
            "[-2.45884356 -1.77760149]\n",
            "[-0.25  0.5 ]\n"
          ],
          "name": "stdout"
        },
        {
          "output_type": "display_data",
          "data": {
            "image/png": "[encoded data removed]",
            "text/plain": [
              "<Figure size 432x288 with 1 Axes>"
            ]
          },
          "metadata": {
            "tags": []
          }
        },
        {
          "output_type": "stream",
          "text": [
            "Done 1\n"
          ],
          "name": "stdout"
        }
      ]
    },
    {
      "cell_type": "code",
      "metadata": {
        "id": "8JpBdVzD75xW",
        "colab_type": "code",
        "colab": {
          "base_uri": "https://localhost:8080/",
          "height": 299
        },
        "outputId": "6bf4cae3-fed9-4aa2-920b-bae3f02d2ab9"
      },
      "source": [
        "smooth_bellman_optimality_operator = make_smooth_bellman_optimality_operator(*mdp, default_temperature)\n",
        "smoothtrajectory = generate_iterates(np.zeros((nstates,)), smooth_bellman_optimality_operator, default_termination)\n",
        "\n",
        "smooth_x = []\n",
        "smooth_y = []\n",
        "for e in list(smoothtrajectory):\n",
        "  #print(\"e \", e)\n",
        "\n",
        "  argmax_a = np.argmax(np.add(R, discount * np.einsum('ijk,k->ji', P, e)), axis=1)\n",
        "  pol = np.eye(P.shape[-1])[argmax_a]\n",
        "  pol_v = direct_policy_evaluation(*mdp, pol)\n",
        "  smooth_x.append(e[0])\n",
        "  smooth_y.append(e[1])\n",
        "\n",
        "plt.scatter(x, y)\n",
        "plt.scatter(det_x, det_y, c='red')\n",
        "plt.scatter(px, py, c='black')\n",
        "plt.scatter(smooth_x, smooth_y, c='green')\n",
        "plt.show()\n",
        "\n",
        "print(\"Done 2\")"
      ],
      "execution_count": 279,
      "outputs": [
        {
          "output_type": "stream",
          "text": [
            "[-0.25  0.5 ]\n"
          ],
          "name": "stdout"
        },
        {
          "output_type": "display_data",
          "data": {
            "image/png": "[encoded data removed]",
            "text/plain": [
              "<Figure size 432x288 with 1 Axes>"
            ]
          },
          "metadata": {
            "tags": []
          }
        },
        {
          "output_type": "stream",
          "text": [
            "Done 2\n"
          ],
          "name": "stdout"
        }
      ]
    },
    {
      "cell_type": "code",
      "metadata": {
        "id": "RsLtDfT83yCQ",
        "colab_type": "code",
        "colab": {
          "base_uri": "https://localhost:8080/",
          "height": 1000
        },
        "outputId": "22b85ffe-ca65-4a20-f907-04c68f0c3777"
      },
      "source": [
        "smooth_bellman_optimality_operator = make_smooth_bellman_optimality_operator(*mdp, default_temperature)\n",
        "gateaux_derivative = make_gateaux_derivative(*mdp, default_temperature)\n",
        "newton_kantorovich_operator = make_newton_kantorovich(smooth_bellman_optimality_operator, gateaux_derivative)\n",
        "ntrajectory = generate_iterates(np.zeros((nstates,)), newton_kantorovich_operator, default_termination)\n",
        "\n",
        "nx = []\n",
        "ny = []\n",
        "\n",
        "for e in list(ntrajectory):\n",
        "  #print(\"e \", e)\n",
        "  argmax_a = np.argmax(np.add(R, discount * np.einsum('ijk,k->ij', P, e)), axis=1)\n",
        "  pol = np.eye(P.shape[-1])[argmax_a]\n",
        "  #policy_evaluation_operator = make_policy_evaluation_operator(*mdp, new_pol)\n",
        "  #pol = policy_evaluation_operator(e)\n",
        "  pol_v = direct_policy_evaluation(*mdp, pol)\n",
        "\n",
        "  nx.append(pol_v[0])\n",
        "  ny.append(pol_v[1])\n",
        "\n",
        "\n",
        "plt.scatter(x, y)\n",
        "plt.scatter(det_x, det_y, c='red')\n",
        "plt.scatter(px, py, c='black')\n",
        "plt.scatter(smooth_x, smooth_y, c='green')\n",
        "plt.scatter(nx, ny, c='yellow')\n",
        "plt.show()\n",
        "\n",
        "print(\"Done 3\")"
      ],
      "execution_count": 281,
      "outputs": [
        {
          "output_type": "stream",
          "text": [
            "[ 0.25 -0.5 ]\n",
            "[-0.2883263   0.76652602]\n",
            "[ 0.2116737  -0.23347398]\n",
            "[ 0.06881069 -0.08231508]\n",
            "[-0.01516108 -0.01210804]\n",
            "[-0.01193458 -0.01199625]\n",
            "[-0.01063966 -0.01063842]\n",
            "[-0.00945685 -0.00945687]\n",
            "[-0.0084061 -0.0084061]\n",
            "[-0.00747209 -0.00747209]\n",
            "[-0.00664186 -0.00664186]\n",
            "[-0.00590387 -0.00590387]\n",
            "[-0.00524789 -0.00524789]\n",
            "[-0.00466479 -0.00466479]\n",
            "[-0.00414648 -0.00414648]\n",
            "[-0.00368576 -0.00368576]\n",
            "[-0.00327623 -0.00327623]\n",
            "[-0.00291221 -0.00291221]\n",
            "[-0.00258863 -0.00258863]\n",
            "[-0.002301 -0.002301]\n",
            "[-0.00204533 -0.00204533]\n",
            "[-0.00181808 -0.00181808]\n",
            "[-0.00161607 -0.00161607]\n",
            "[-0.0014365 -0.0014365]\n",
            "[-0.00127689 -0.00127689]\n",
            "[-0.00113502 -0.00113502]\n",
            "[-0.0010089 -0.0010089]\n",
            "[-0.0008968 -0.0008968]\n",
            "[-0.00079716 -0.00079716]\n",
            "[-0.00070858 -0.00070858]\n",
            "[-0.00062985 -0.00062985]\n",
            "[-0.00055987 -0.00055987]\n",
            "[-0.00049766 -0.00049766]\n",
            "[-0.00044237 -0.00044237]\n",
            "[-0.00039321 -0.00039321]\n",
            "[-0.00034952 -0.00034952]\n",
            "[-0.00031069 -0.00031069]\n",
            "[-0.00027617 -0.00027617]\n",
            "[-0.00024548 -0.00024548]\n",
            "[-0.00021821 -0.00021821]\n",
            "[-0.00019396 -0.00019396]\n",
            "[-0.00017241 -0.00017241]\n",
            "[-0.00015325 -0.00015325]\n",
            "[-0.00013623 -0.00013623]\n",
            "[-0.00012109 -0.00012109]\n",
            "[-0.00010763 -0.00010763]\n",
            "[-9.56752873e-05 -9.56752873e-05]\n",
            "[-8.50447104e-05 -8.50447104e-05]\n",
            "[-7.55953076e-05 -7.55953076e-05]\n",
            "[-6.71958374e-05 -6.71958374e-05]\n",
            "[-5.97297079e-05 -5.97297079e-05]\n",
            "[-5.309314e-05 -5.309314e-05]\n",
            "[-4.71939612e-05 -4.71939612e-05]\n",
            "[-4.19502402e-05 -4.19502402e-05]\n",
            "[-3.7289149e-05 -3.7289149e-05]\n",
            "[-3.31459517e-05 -3.31459517e-05]\n",
            "[-2.9463105e-05 -2.9463105e-05]\n",
            "[-2.61894594e-05 -2.61894594e-05]\n",
            "[-2.32795486e-05 -2.32795486e-05]\n",
            "[-2.06929579e-05 -2.06929579e-05]\n",
            "[-1.83937634e-05 -1.83937634e-05]\n",
            "[-1.63500323e-05 -1.63500323e-05]\n",
            "[-1.45333802e-05 -1.45333802e-05]\n",
            "[-1.29185763e-05 -1.29185763e-05]\n",
            "[-1.14831933e-05 -1.14831933e-05]\n",
            "[-1.02072957e-05 -1.02072957e-05]\n",
            "[-9.07316309e-06 -9.07316309e-06]\n",
            "[-8.06504394e-06 -8.06504394e-06]\n",
            "[-7.16893691e-06 -7.16893691e-06]\n",
            "[-6.37239633e-06 -6.37239633e-06]\n",
            "[-5.6644231e-06 -5.6644231e-06]\n",
            "[-5.03510569e-06 -5.03510569e-06]\n",
            "[-4.47570545e-06 -4.47570545e-06]\n",
            "[-3.97845457e-06 -3.97845457e-06]\n",
            "[-3.53644827e-06 -3.53644827e-06]\n",
            "[-3.14354887e-06 -3.14354887e-06]\n",
            "[-2.79430059e-06 -2.79430059e-06]\n",
            "[-2.48385379e-06 -2.48385379e-06]\n",
            "[-2.20789764e-06 -2.20789764e-06]\n",
            "[-1.96260021e-06 -1.96260021e-06]\n",
            "[-1.74455533e-06 -1.74455533e-06]\n",
            "[-1.55073523e-06 -1.55073523e-06]\n",
            "[-1.37844854e-06 -1.37844855e-06]\n",
            "[-1.22530291e-06 -1.22530291e-06]\n",
            "[-1.08917176e-06 -1.08917176e-06]\n",
            "[-9.68164776e-07 -9.68164776e-07]\n",
            "[-8.60601669e-07 -8.60601669e-07]\n",
            "[-7.64988824e-07 -7.64988824e-07]\n",
            "[-6.79998566e-07 -6.79998566e-07]\n",
            "[-6.04518725e-07 -6.04518725e-07]\n",
            "[-5.37417146e-07 -5.37417147e-07]\n",
            "[-4.77763843e-07 -4.77763843e-07]\n",
            "[-4.24732056e-07 -4.24732057e-07]\n",
            "[-3.77586798e-07 -3.77586798e-07]\n",
            "[-3.35674664e-07 -3.35674664e-07]\n",
            "[-2.98414776e-07 -2.98414776e-07]\n",
            "[-2.65290736e-07 -2.65290736e-07]\n",
            "[-2.35843464e-07 -2.35843464e-07]\n",
            "[-2.09664839e-07 -2.09664839e-07]\n",
            "[-1.86392042e-07 -1.86392042e-07]\n",
            "[-1.65702526e-07 -1.65702525e-07]\n",
            "[-1.47309545e-07 -1.47309545e-07]\n",
            "[-1.30958186e-07 -1.30958186e-07]\n",
            "[-1.16421827e-07 -1.16421827e-07]\n",
            "[-1.03499004e-07 -1.03499004e-07]\n",
            "[-9.20106148e-08 -9.20106153e-08]\n",
            "[-8.17974369e-08 -8.17974362e-08]\n",
            "[-7.27179209e-08 -7.27179210e-08]\n",
            "[-6.46462317e-08 -6.46462321e-08]\n",
            "[-5.75351464e-08 -5.75351466e-08]\n",
            "[-5.12062805e-08 -5.12062801e-08]\n",
            "[-4.55735893e-08 -4.55735896e-08]\n",
            "[-4.05604946e-08 -4.05604945e-08]\n",
            "[-3.60988403e-08 -3.60988404e-08]\n",
            "[-3.21279677e-08 -3.21279678e-08]\n",
            "[-2.85938915e-08 -2.85938913e-08]\n",
            "[-2.54485634e-08 -2.54485635e-08]\n",
            "[-2.26492213e-08 -2.26492214e-08]\n",
            "[-2.01578071e-08 -2.01578068e-08]\n",
            "[-1.79404481e-08 -1.79404480e-08]\n",
            "[-1.59669988e-08 -1.59669993e-08]\n",
            "[-1.42106291e-08 -1.42106289e-08]\n",
            "[-1.26474599e-08 -1.26474597e-08]\n",
            "[-1.12562392e-08 -1.12562391e-08]\n",
            "[-1.00180528e-08 -1.00180531e-08]\n",
            "[-8.91606711e-09 -8.91606722e-09]\n",
            "[-7.93529975e-09 -7.93529953e-09]\n",
            "[-7.06241687e-09 -7.06241665e-09]\n"
          ],
          "name": "stdout"
        },
        {
          "output_type": "display_data",
          "data": {
            "image/png": "[encoded data removed]",
            "text/plain": [
              "<Figure size 432x288 with 1 Axes>"
            ]
          },
          "metadata": {
            "tags": []
          }
        },
        {
          "output_type": "stream",
          "text": [
            "Done 3\n"
          ],
          "name": "stdout"
        }
      ]
    },
    {
      "cell_type": "code",
      "metadata": {
        "id": "RD0bYgi1-TQ-",
        "colab_type": "code",
        "outputId": "87b31ac2-b91a-4064-cfd4-d44259f9be2d",
        "colab": {
          "base_uri": "https://localhost:8080/",
          "height": 265
        }
      },
      "source": [
        "plt.scatter(px, py)\n",
        "\n",
        "plt.scatter(nx, ny, c='green')\n",
        "\n",
        "plt.scatter(smooth_x, smooth_y, c='red')\n",
        "\n",
        "\n",
        "#plt.scatter(nx, ny, c='green')\n",
        "plt.show()"
      ],
      "execution_count": 282,
      "outputs": [
        {
          "output_type": "display_data",
          "data": {
            "image/png": "[encoded data removed]",
            "text/plain": [
              "<Figure size 432x288 with 1 Axes>"
            ]
          },
          "metadata": {
            "tags": []
          }
        }
      ]
    },
    {
      "cell_type": "markdown",
      "metadata": {
        "id": "04jm7-x1APoo",
        "colab_type": "text"
      },
      "source": [
        "Describes what happens as you decrease the temperature in smooth value iteration and with Newton-Kantorovich and the smooth Bellman operator? Answer this question by creating a new polytope plot on which you overlays the different trajectories taken by your algorithm depending on the temperature parameter. Don't forget to add a legend. \n",
        "\n",
        "Also, compare the trajectories taken by policy iteration and the Newton-Kantorovich method. Do they match? Compare the iterates computed by smooth policy iteration and those of the Newton-Kantorovich method with the smooth operator using the ``generate_iterates`` function. For each iterate of smooth policy iteration (a policy), compute the associated value function and compare with the values produced by Newton-Kantorovich. Do you get the same sequence of values as if you were to run Newton-Kantorovich? "
      ]
    },
    {
      "cell_type": "code",
      "metadata": {
        "id": "FccNFU_t6Ami",
        "colab_type": "code",
        "colab": {}
      },
      "source": [
        ""
      ],
      "execution_count": 0,
      "outputs": []
    }
  ]
}