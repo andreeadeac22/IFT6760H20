{
  "nbformat": 4,
  "nbformat_minor": 0,
  "metadata": {
    "colab": {
      "name": "Copy of IFT6760-H20-A1-Template.ipynb",
      "provenance": [],
      "collapsed_sections": [],
      "include_colab_link": true
    },
    "kernelspec": {
      "name": "python3",
      "display_name": "Python 3"
    }
  },
  "cells": [
    {
      "cell_type": "markdown",
      "metadata": {
        "id": "view-in-github",
        "colab_type": "text"
      },
      "source": [
        "<a href=\"https://colab.research.google.com/github/andreeadeac22/IFT6760H20/blob/master/Copy_of_IFT6760_H20_A1_Template.ipynb\" target=\"_parent\"><img src=\"https://colab.research.google.com/assets/colab-badge.svg\" alt=\"Open In Colab\"/></a>"
      ]
    },
    {
      "cell_type": "markdown",
      "metadata": {
        "id": "sM9fD394B_Pe",
        "colab_type": "text"
      },
      "source": [
        "This synthetic MDP has no particular meaning except that it produces pretty plot. It is inspired from [Dadashi & al. (2019)](http://proceedings.mlr.press/v97/dadashi19a.html).\n",
        "\n",
        "Note: we will be using [JAX](https://jax.readthedocs.io/en/latest/) instead of Numpy because we will later make use of the automatic differentiation feature. \n",
        "Because JAX is meant to work best when the code is properly [*jitted*](https://en.wikipedia.org/wiki/Just-in-time_compilation) (which I didn't do for simplicity), some sections may run slower than a pure Numpy implementation. It shouldn't be a problem for the problems that we are working with (order of few seconds max). If you are impatient, feel free to use the [@jit](https://jax.readthedocs.io/en/latest/jax.html#just-in-time-compilation-jit) decorator where appropriate."
      ]
    },
    {
      "cell_type": "code",
      "metadata": {
        "id": "SqvBWr_ROOgU",
        "colab_type": "code",
        "colab": {}
      },
      "source": [
        "import jax.numpy as np\n",
        "from jax.config import config\n",
        "config.update(\"jax_enable_x64\", True)\n",
        "\n",
        "def synthetic_mdp():\n",
        "  P = np.array([[[0.75 , 0.25 ], [0.2 , 0.8 ]],\n",
        "                [[0.99, 0.01], [0.8, 0.2]]])\n",
        "  mdp_R = np.array(([[-0.5, -0.25 ],\n",
        "                [ 0.5 ,  0.25 ]]))\n",
        "  return P, mdp_R, 0.9"
      ],
      "execution_count": 0,
      "outputs": []
    },
    {
      "cell_type": "markdown",
      "metadata": {
        "id": "p9Ra2WWSBj20",
        "colab_type": "text"
      },
      "source": [
        "The method of successive approximation provides us with a generic template for all of our algorithms. In the following, we will use:"
      ]
    },
    {
      "cell_type": "code",
      "metadata": {
        "id": "TRSuNAuEPOQN",
        "colab_type": "code",
        "colab": {}
      },
      "source": [
        "def generate_iterates(xinit, operator, termination_condition):\n",
        "    x, xprev = operator(xinit), xinit\n",
        "    #print(x)\n",
        "    yield x\n",
        "    while not termination_condition(xprev, x):\n",
        "        x, xprev = operator(x), x\n",
        "        yield x\n",
        "\n",
        "def successive_approximation(xinit, operator=lambda x: x, termination_condition=lambda xprev, x: False):\n",
        "    for iterate in generate_iterates(xinit, operator, termination_condition):\n",
        "      pass\n",
        "    return iterate"
      ],
      "execution_count": 0,
      "outputs": []
    },
    {
      "cell_type": "markdown",
      "metadata": {
        "id": "GzlHLc5YKKR3",
        "colab_type": "text"
      },
      "source": [
        "We define a generic termination condition for successive approximation based on the Euclidean distance between two iterates. "
      ]
    },
    {
      "cell_type": "code",
      "metadata": {
        "id": "gXkVO95t6ERS",
        "colab_type": "code",
        "colab": {}
      },
      "source": [
        "def default_termination(xprev, x, epsilon=1e-8):\n",
        "  return np.linalg.norm(xprev - x) < epsilon"
      ],
      "execution_count": 0,
      "outputs": []
    },
    {
      "cell_type": "markdown",
      "metadata": {
        "id": "JUkjR0Ak9H0X",
        "colab_type": "text"
      },
      "source": [
        "# Policy Evaluation"
      ]
    },
    {
      "cell_type": "markdown",
      "metadata": {
        "id": "nblOb8_RJQOp",
        "colab_type": "text"
      },
      "source": [
        "We start by implementing the policy evaluation operator. Refer to the section on vector notation in the course notes or read Puterman (1994) for references. \n",
        "In general, many of these operations can be written consicely by using [np.einsum](https://docs.scipy.org/doc/numpy/reference/generated/numpy.einsum.html). For an overview of Einstein notation, see this [blogpost](https://rockt.github.io/2018/04/30/einsum) by Tim Rocktäschel."
      ]
    },
    {
      "cell_type": "code",
      "metadata": {
        "id": "HsF5eokZOhxf",
        "colab_type": "code",
        "colab": {}
      },
      "source": [
        "def make_policy_evaluation_operator(P, R, discount, policy):\n",
        "  def policy_evaluation_operator(v):  \n",
        "    p_pi = np.einsum('ijk,ji->jk', P, policy)\n",
        "    discounted_pv = discount * np.einsum('ij,j->i', p_pi, v)\n",
        "    r_pi = np.einsum('ij, ij -> i', policy, R)\n",
        "    return np.add(r_pi, discounted_pv)\n",
        "  return policy_evaluation_operator"
      ],
      "execution_count": 0,
      "outputs": []
    },
    {
      "cell_type": "code",
      "metadata": {
        "id": "A61DGS9zPPW8",
        "colab_type": "code",
        "colab": {
          "base_uri": "https://localhost:8080/",
          "height": 51
        },
        "outputId": "fee54369-bc2d-41aa-ceea-71f352e6b543"
      },
      "source": [
        "mdp = synthetic_mdp()\n",
        "P, mdp_R, discount = mdp\n",
        "nstates, nactions = P.shape[-1], P.shape[0]"
      ],
      "execution_count": 5,
      "outputs": [
        {
          "output_type": "stream",
          "text": [
            "/usr/local/lib/python3.6/dist-packages/jax/lib/xla_bridge.py:119: UserWarning: No GPU/TPU found, falling back to CPU.\n",
            "  warnings.warn('No GPU/TPU found, falling back to CPU.')\n"
          ],
          "name": "stderr"
        }
      ]
    },
    {
      "cell_type": "markdown",
      "metadata": {
        "id": "iam11W2I7Jor",
        "colab_type": "text"
      },
      "source": [
        "A good sanity check to see if our policy evaluation method is to use a reward function which is $1$ everywhere. In the discounted setting, we have that the expected return should be equal to $1/(1- \n",
        "\\gamma)$."
      ]
    },
    {
      "cell_type": "code",
      "metadata": {
        "id": "CgRmfX6x5Qyo",
        "colab_type": "code",
        "colab": {}
      },
      "source": [
        "reward_all_ones = np.ones((nstates, nactions))\n",
        "uniform_policy = np.ones((nstates, nactions))/nactions\n",
        "\n",
        "policy_evaluation_operator = make_policy_evaluation_operator(P, reward_all_ones, discount, uniform_policy)\n",
        "solution = successive_approximation(np.zeros((nstates,)), policy_evaluation_operator, default_termination)"
      ],
      "execution_count": 0,
      "outputs": []
    },
    {
      "cell_type": "markdown",
      "metadata": {
        "id": "Rfs7k0_n731a",
        "colab_type": "text"
      },
      "source": [
        "The following should return true:"
      ]
    },
    {
      "cell_type": "code",
      "metadata": {
        "id": "1nHxm0XA7fae",
        "colab_type": "code",
        "outputId": "4dfbef85-dc2e-4f93-dd41-fc3c5386f84e",
        "colab": {
          "base_uri": "https://localhost:8080/",
          "height": 34
        }
      },
      "source": [
        "np.allclose(solution, [1/(1-discount)]*nstates)"
      ],
      "execution_count": 7,
      "outputs": [
        {
          "output_type": "execute_result",
          "data": {
            "text/plain": [
              "DeviceArray(True, dtype=bool)"
            ]
          },
          "metadata": {
            "tags": []
          },
          "execution_count": 7
        }
      ]
    },
    {
      "cell_type": "markdown",
      "metadata": {
        "id": "lzBiQoj48Div",
        "colab_type": "text"
      },
      "source": [
        "Now we can also make sure that the solution found by succesive approximation matches the closed-form solution which we would obtain using a direct method. "
      ]
    },
    {
      "cell_type": "code",
      "metadata": {
        "id": "asgiFX-z8C8x",
        "colab_type": "code",
        "colab": {}
      },
      "source": [
        "def direct_policy_evaluation(P, R, discount, policy):\n",
        "  # Add your implementation below. Avoid explicit matrix inverses\n",
        "  # You should be able to do this in 3 lines or less.\n",
        "  p_pi = np.einsum('ijk,ji->jk', P, policy)\n",
        "  discounted_p_pi = discount * p_pi\n",
        "  a = np.subtract(np.identity(P.shape[-1]), discounted_p_pi)\n",
        "\n",
        "  r_pi = np.einsum('ij, ij -> i', policy, R)\n",
        "  return np.linalg.solve(a, r_pi)"
      ],
      "execution_count": 0,
      "outputs": []
    },
    {
      "cell_type": "code",
      "metadata": {
        "id": "UKBPMSD58qex",
        "colab_type": "code",
        "colab": {}
      },
      "source": [
        "solution = direct_policy_evaluation(P, reward_all_ones, discount, uniform_policy)"
      ],
      "execution_count": 0,
      "outputs": []
    },
    {
      "cell_type": "markdown",
      "metadata": {
        "id": "ebRl21Rk88EU",
        "colab_type": "text"
      },
      "source": [
        "This should once again return true: "
      ]
    },
    {
      "cell_type": "code",
      "metadata": {
        "id": "yySrLUSO8-BH",
        "colab_type": "code",
        "outputId": "a89a9231-180c-4ad5-ec98-8a6faf898bd9",
        "colab": {
          "base_uri": "https://localhost:8080/",
          "height": 34
        }
      },
      "source": [
        "np.allclose(solution, [1/(1-discount)]*nstates)"
      ],
      "execution_count": 10,
      "outputs": [
        {
          "output_type": "execute_result",
          "data": {
            "text/plain": [
              "DeviceArray(True, dtype=bool)"
            ]
          },
          "metadata": {
            "tags": []
          },
          "execution_count": 10
        }
      ]
    },
    {
      "cell_type": "markdown",
      "metadata": {
        "id": "hWdYO4Pk7SA2",
        "colab_type": "text"
      },
      "source": [
        "## Projected Policy Evaluation Operator\n",
        "\n",
        "We have seen that the projected policy evaluation equations can be solved either in closed form or iteratively using the projected (Bellman) policy evaluation operator. \n",
        "\n",
        "Because the projection is taken with respect to a weighted Euclidean distance, you have to compute the entries of the diagonal matrix $X$ by solving for the stationary distribution of the given policy in the MDP. \n",
        "\n",
        "Remember that a stationary distribution $x$ must satisfy $x^\\top P = x^\\top$, \n",
        "where $x^\\top \\mathbf{1} = 1 \\in \\mathbb{R}^{|\\mathcal{S}|}$ and $P \\in \\mathbb{R}^{|\\mathcal{S}| \\times |\\mathcal{S}|}$. Therfore, $x^\\top$ is a left eigenvector of $P$. By the [Perron-Frobenius theorem](https://en.wikipedia.org/wiki/Perron%E2%80%93Frobenius_theorem), we know that there exists a eigenvalue of maximum modulus which is a real positive number: the Perron root. For stochastic matrices, the Perron root (the spectral radis) is equal to 1. Furthermore, the eigenvector associated with the Perron root (the Perron vector) has only positive components. \n",
        "\n",
        "You can use numpy to find the eigendecomposition of the stochastic matrix, isolate the Perron vector (through the Perron root) and normalize the resulting vector so that it sums up to one. \n",
        "\n",
        "Alternatively, you could also choose to view the problem of finding a solution to $x^\\top P = x^\\top$ as a fixed-point problem and use the above ``successive_approximation`` function with the appropriate operator. Note however that the zero vector is a trivial solution of this problem, and you should make sure not to initialize from this point.\n",
        "\n",
        "In the following, implement a function to compute the stationary distribution for a given transition matrix:"
      ]
    },
    {
      "cell_type": "code",
      "metadata": {
        "id": "WPQsu8DMtfdk",
        "colab_type": "code",
        "colab": {}
      },
      "source": [
        "def stationary_distribution(P):\n",
        "  # Compute stationary distribution here\n",
        "  w, v = np.linalg.eig(P.T)\n",
        "  for i, e in enumerate(w):\n",
        "    if np.isclose(e, 1.):\n",
        "      return v[:,i] / np.sum(v[:,i])"
      ],
      "execution_count": 0,
      "outputs": []
    },
    {
      "cell_type": "markdown",
      "metadata": {
        "id": "Kp4olEZDtiiX",
        "colab_type": "text"
      },
      "source": [
        "We can now use this function to pre-compute the stationary distribution and use it to form the projected policy evaluation operator:"
      ]
    },
    {
      "cell_type": "code",
      "metadata": {
        "id": "6s9_7Pc4PtB2",
        "colab_type": "code",
        "colab": {}
      },
      "source": [
        "def make_pvi_operator(P, R, discount, policy, phi):\n",
        "  # Compute A and b matrices here\n",
        "  p_pi = np.einsum('ijk,ji->jk', P, policy)\n",
        "\n",
        "  x = stationary_distribution(p_pi) \n",
        "  phitx = np.einsum('ij,jk->ik', phi.T, np.diag(x))\n",
        "\n",
        "  a = np.subtract(np.identity(P.shape[-1]), discount * p_pi)\n",
        "  phitx_a = np.einsum('ij, jk->ik', phitx, a)\n",
        "  A = np.einsum('ij, jk->ik', phitx_a, phi)\n",
        "\n",
        "  r_pi = np.einsum('ij, ij -> i', policy, R)\n",
        "  b = np.einsum('ij, j->i', phitx, r_pi)\n",
        "\n",
        "  def pvi_operator(w):\n",
        "    # Compute projection here, without forming matrix inverse explicitely\n",
        "    phitx_phi = np.einsum('ij, jk->ik', phitx, phi)\n",
        "    c_wk = np.einsum('ij, j->i', phitx_phi, w)\n",
        "\n",
        "    A_wk = np.einsum('ij, j->i', A, w)\n",
        "\n",
        "    rhs = np.subtract( np.add(c_wk, b), A_wk)\n",
        "    return np.linalg.solve(phitx_phi, rhs)\n",
        "  return pvi_operator  "
      ],
      "execution_count": 0,
      "outputs": []
    },
    {
      "cell_type": "markdown",
      "metadata": {
        "id": "MhkXt45ROshY",
        "colab_type": "text"
      },
      "source": [
        "As a sanity check, we can verify that we obtain the exact solution when using *one-hot*  (tabular) features."
      ]
    },
    {
      "cell_type": "code",
      "metadata": {
        "id": "KpDJX2HE7g8G",
        "colab_type": "code",
        "colab": {}
      },
      "source": [
        "one_hot_features = np.eye(nstates)"
      ],
      "execution_count": 0,
      "outputs": []
    },
    {
      "cell_type": "code",
      "metadata": {
        "id": "CyV5tIUS7cN1",
        "colab_type": "code",
        "colab": {}
      },
      "source": [
        "pvi_operator = make_pvi_operator(P, reward_all_ones, discount, uniform_policy, one_hot_features)\n",
        "solution = successive_approximation(np.zeros(nstates), pvi_operator, default_termination)"
      ],
      "execution_count": 0,
      "outputs": []
    },
    {
      "cell_type": "markdown",
      "metadata": {
        "id": "NO-O2CcN7rPP",
        "colab_type": "text"
      },
      "source": [
        "Because we used the reward function which is one everywhere, we should also find that the expected return is $1/(1-\\gamma)$. \n",
        "\n",
        "This test should also return true:"
      ]
    },
    {
      "cell_type": "code",
      "metadata": {
        "id": "eDr6icJh7ulj",
        "colab_type": "code",
        "outputId": "54ec4a9b-f5ca-4617-eaa6-dae28aab0a01",
        "colab": {
          "base_uri": "https://localhost:8080/",
          "height": 34
        }
      },
      "source": [
        "np.allclose(one_hot_features @ solution, [1/(1-discount)]*nstates)"
      ],
      "execution_count": 15,
      "outputs": [
        {
          "output_type": "execute_result",
          "data": {
            "text/plain": [
              "DeviceArray(True, dtype=bool)"
            ]
          },
          "metadata": {
            "tags": []
          },
          "execution_count": 15
        }
      ]
    },
    {
      "cell_type": "markdown",
      "metadata": {
        "id": "nXzvaE3sv8c3",
        "colab_type": "text"
      },
      "source": [
        "A non-iterative alternative to the above PVI algorithm is simply to solve for the projected policy evaluation equations using a direct method. Implement the projected counterpart to the above ``direct_policy_evaluation`` method."
      ]
    },
    {
      "cell_type": "code",
      "metadata": {
        "id": "bV52XImau62l",
        "colab_type": "code",
        "colab": {}
      },
      "source": [
        "def direct_projected_policy_evaluation(P, R, discount, policy, phi):\n",
        "  # Compute A and b matrices here\n",
        "  p_pi = np.einsum('ijk,ji->jk', P, policy)\n",
        "\n",
        "  x = stationary_distribution(p_pi) \n",
        "  phitx = np.einsum('ij,jk->ik', phi.T, np.diag(x))\n",
        "\n",
        "  a = np.subtract(np.identity(P.shape[-1]), discount*p_pi)\n",
        "  phitx_a = np.einsum('ij, jk->ik', phitx, a)\n",
        "  A = np.einsum('ij, jk->ik', phitx_a, phi)\n",
        "\n",
        "  r_pi = np.einsum('ij, ij -> i', policy, R)\n",
        "  b = np.einsum('ij, j->i', phitx, r_pi)\n",
        "  return np.linalg.solve(A, b)"
      ],
      "execution_count": 0,
      "outputs": []
    },
    {
      "cell_type": "code",
      "metadata": {
        "id": "EJWu8bOxvrlp",
        "colab_type": "code",
        "colab": {}
      },
      "source": [
        "solution = direct_projected_policy_evaluation(P, reward_all_ones, discount, uniform_policy, one_hot_features)"
      ],
      "execution_count": 0,
      "outputs": []
    },
    {
      "cell_type": "code",
      "metadata": {
        "id": "33ocbZkcv6pV",
        "colab_type": "code",
        "outputId": "03a0abde-7ab5-4bdc-9f1b-dc1316b91956",
        "colab": {
          "base_uri": "https://localhost:8080/",
          "height": 34
        }
      },
      "source": [
        "np.allclose(one_hot_features @ solution, [1/(1-discount)]*nstates)"
      ],
      "execution_count": 18,
      "outputs": [
        {
          "output_type": "execute_result",
          "data": {
            "text/plain": [
              "DeviceArray(True, dtype=bool)"
            ]
          },
          "metadata": {
            "tags": []
          },
          "execution_count": 18
        }
      ]
    },
    {
      "cell_type": "markdown",
      "metadata": {
        "id": "absD_AHc6Hr2",
        "colab_type": "text"
      },
      "source": [
        "### Bertsekas Bound\n",
        "\n",
        "Verify that the bound in proposition 6.3.1 for Bertsekas holds. Use the direct of iterative policy evaluation methods to compute all the terms in the bound. \n",
        "\n",
        "Test for the synthetic MDP with a uniform policy and tabular features. Then generate a random full-rank matrix of features and repeat the exercise."
      ]
    },
    {
      "cell_type": "code",
      "metadata": {
        "id": "FKSjhO1f4ci-",
        "colab_type": "code",
        "colab": {
          "base_uri": "https://localhost:8080/",
          "height": 34
        },
        "outputId": "e699ed3d-f2bb-45ab-b750-c700c09f8333"
      },
      "source": [
        "# verifying Bertsekas bound\n",
        "\n",
        "\n",
        "solution = direct_policy_evaluation(*mdp, uniform_policy)\n",
        "projected_solution = direct_projected_policy_evaluation(*mdp, uniform_policy, one_hot_features)\n",
        "\n",
        "lhs = np.subtract(solution, projected_solution)\n",
        "squared = np.einsum('i, i->i', lhs, lhs)\n",
        "print(np.sqrt(np.sum(squared)))\n"
      ],
      "execution_count": 45,
      "outputs": [
        {
          "output_type": "stream",
          "text": [
            "0j\n"
          ],
          "name": "stdout"
        }
      ]
    },
    {
      "cell_type": "markdown",
      "metadata": {
        "id": "VyMzMoLO9OWt",
        "colab_type": "text"
      },
      "source": [
        "# Optimality Equations\n",
        "\n",
        "As usual, I advise you to use [np.einsum](https://docs.scipy.org/doc/numpy/reference/generated/numpy.einsum.html) to implement the following optimality operators. Note that in all cases, the following operators act on vectors $v \\in \\mathbb{R}^{|\\mathcal{S}|}$ and not on Q-factors $Q \\in \\mathbb{R}^{|\\mathcal{S}|\\times|\\mathcal{A}|}$. "
      ]
    },
    {
      "cell_type": "code",
      "metadata": {
        "id": "wobqDMBU9Yd5",
        "colab_type": "code",
        "colab": {}
      },
      "source": [
        "def make_bellman_optimality_operator(P, R, discount):\n",
        "  def bellman_optimality_operator(v):\n",
        "    # This should be a one-liner\n",
        "    return np.max(np.add(R, discount * np.einsum('ijk,k->ji', P, v)), axis=1)\n",
        "  return bellman_optimality_operator"
      ],
      "execution_count": 0,
      "outputs": []
    },
    {
      "cell_type": "markdown",
      "metadata": {
        "id": "s7VKL_yRRmNn",
        "colab_type": "text"
      },
      "source": [
        "Now do the same thing but where you use the [soft-max](https://en.wikipedia.org/wiki/Smooth_maximum) (smooth maximum) instead of the *hard* one. You can use the built-in implementations of the soft-max function for more stability. See [Rust (1996)](https://doi.org/10.1016/s1574-0021(96)01016-7) for reference"
      ]
    },
    {
      "cell_type": "code",
      "metadata": {
        "id": "iiM5UyHqPSRC",
        "colab_type": "code",
        "colab": {}
      },
      "source": [
        "from jax.experimental.stax import softmax\n",
        "from scipy.special import logsumexp\n",
        "\n",
        "def make_smooth_bellman_optimality_operator(P, R, discount, temperature):\n",
        "  def smooth_bellman_optimality_operator(v):\n",
        "    # This should be a one-liner\n",
        "    \n",
        "    #softmaxed = softmax(1./temperature * v)\n",
        "    #softmaxed_v = np.einsum('i,i->i', softmaxed, v)\n",
        "    #r_pv = np.sum(np.add(R, discount * np.einsum('ijk,k->ji', P, softmaxed_v)), axis=-1)\n",
        "    pv = np.einsum('ijk,k->ji', P, v)\n",
        "    temp_lv = 1./temperature * np.add(R, discount * pv)  \n",
        "    #print(\"temp_lv \", temp_lv)\n",
        "    max_col = np.reshape(np.max(temp_lv, axis=1), newshape=(nstates, 1))\n",
        "    #print(\"max_col \", max_col)\n",
        "    max_mat = np.repeat(max_col, repeats=temp_lv.shape[0], axis=1)\n",
        "    shift_templv =  temp_lv - max_mat\n",
        "    #print(\"shift \", shift_templv)\n",
        "    #s = np.max(temp_lv) + np.log(np.sum(np.exp(shift_templv), axis=1))\n",
        "    s = np.max(temp_lv, axis=1) + np.log(np.sum(np.exp(shift_templv), axis=1))\n",
        "    #print(\"s \", s)\n",
        "    #ss = logsumexp(r_pv, axis=-1, b=1./temperature)\n",
        "    #print(\"ss \", ss)\n",
        "    #print(\"new s \", temperature * s)\n",
        "    return temperature * s\n",
        "  return smooth_bellman_optimality_operator"
      ],
      "execution_count": 0,
      "outputs": []
    },
    {
      "cell_type": "markdown",
      "metadata": {
        "id": "J4jtWev0BHKR",
        "colab_type": "text"
      },
      "source": [
        "We can apply the same sanity check for the optimality equations and use a reward function where all components are set to $1$. The following loop goes over the *hard* and smooth optimality operators and verifies that we recover the optimal value function in all cases:\n",
        "\n"
      ]
    },
    {
      "cell_type": "code",
      "metadata": {
        "id": "wpeftUNq-Q8o",
        "colab_type": "code",
        "outputId": "780b4025-dc3f-4a99-fee8-78cda5cd437f",
        "colab": {
          "base_uri": "https://localhost:8080/",
          "height": 51
        }
      },
      "source": [
        "default_temperature = 1e-5\n",
        "\n",
        "hard_operator = make_bellman_optimality_operator(P, reward_all_ones, discount)\n",
        "smooth_operator = make_smooth_bellman_optimality_operator(P, reward_all_ones, discount, default_temperature)\n",
        "\n",
        "for operator in [hard_operator, smooth_operator]:\n",
        "  solution = successive_approximation(np.zeros((nstates,)), operator, default_termination)\n",
        "  print(np.allclose(solution, [1/(1-discount)]*nstates))"
      ],
      "execution_count": 21,
      "outputs": [
        {
          "output_type": "stream",
          "text": [
            "True\n",
            "True\n"
          ],
          "name": "stdout"
        }
      ]
    },
    {
      "cell_type": "markdown",
      "metadata": {
        "id": "GSc1mIstWHGD",
        "colab_type": "text"
      },
      "source": [
        "Equipped with policy evaluation methods from above, we can also easily define a policy evaluation operator. Note that this time, the operator takes a policy (not a value vector) and returns an improved policy."
      ]
    },
    {
      "cell_type": "code",
      "metadata": {
        "id": "SVM5q4rtWQtr",
        "colab_type": "code",
        "colab": {}
      },
      "source": [
        "def make_policy_iteration_operator(P, R, discount):\n",
        "  def policy_iteration_operator(policy):\n",
        "    v = direct_policy_evaluation(P, R, discount, policy)\n",
        "    argmax_a = np.argmax(np.add(R, discount * np.einsum('ijk,k->ji', P, v)), axis=1)\n",
        "    return np.eye(P.shape[-1])[argmax_a]\n",
        "  return policy_iteration_operator"
      ],
      "execution_count": 0,
      "outputs": []
    },
    {
      "cell_type": "markdown",
      "metadata": {
        "id": "gJbSf-pEkl4N",
        "colab_type": "text"
      },
      "source": [
        "We also have to define a new termination condition, suited to the fact that we iterate over deterministic policies:"
      ]
    },
    {
      "cell_type": "code",
      "metadata": {
        "id": "jbvP63qokiPz",
        "colab_type": "code",
        "colab": {}
      },
      "source": [
        "def policy_iteration_termination(policy_prev, policy):\n",
        "  return np.allclose(policy_prev, policy)"
      ],
      "execution_count": 0,
      "outputs": []
    },
    {
      "cell_type": "markdown",
      "metadata": {
        "id": "muzV3W9xkx1x",
        "colab_type": "text"
      },
      "source": [
        "In a somewhat redundant exercise, you can also define the smooth counterpart to the usual policy iteration by replacing the argmax with the soft-argmax. You can also use a built-in implementation for better numerical stability."
      ]
    },
    {
      "cell_type": "code",
      "metadata": {
        "id": "GCzlaZsykjRj",
        "colab_type": "code",
        "colab": {}
      },
      "source": [
        "from jax.nn import softmax\n",
        "def make_smooth_policy_iteration_operator(P, R, discount, temperature):\n",
        "  def smooth_policy_iteration_operator(policy):\n",
        "    v = direct_policy_evaluation(P, R, discount, policy)\n",
        "\n",
        "    pv = np.einsum('ijk,k->ji', P, v)\n",
        "\n",
        "    temp_lv = 1./temperature * np.add(R, discount*pv)\n",
        "    #normalized = np.exp(temp_lv - temp_lv.max())\n",
        "    #new_policy = temp_lv / np.sum(temp_lv, axis=0)\n",
        "    #return temp_lv / np.sum(temp_lv, axis=0)\n",
        "    return  softmax(temp_lv)\n",
        "  return smooth_policy_iteration_operator"
      ],
      "execution_count": 0,
      "outputs": []
    },
    {
      "cell_type": "markdown",
      "metadata": {
        "id": "_4ViwtCKlBFq",
        "colab_type": "text"
      },
      "source": [
        "The method of sucessive approximation applied to these operators returns a policy as output, if we want to verify that they are indeed optimal, we now need to re-use our policy evaluation code to compute the associated value function.\n",
        "\n",
        "The following should return true twice:"
      ]
    },
    {
      "cell_type": "code",
      "metadata": {
        "id": "_SrQ2ZEZZb73",
        "colab_type": "code",
        "outputId": "ef1bfb91-cf83-42d4-81ab-1d32bc74d0c8",
        "colab": {
          "base_uri": "https://localhost:8080/",
          "height": 34
        }
      },
      "source": [
        "policy_iteration_operator = make_policy_iteration_operator(P, reward_all_ones, discount)\n",
        "policy = successive_approximation(np.zeros((nstates, nactions)), policy_iteration_operator, policy_iteration_termination)\n",
        "solution = direct_policy_evaluation(P, reward_all_ones, discount, policy)\n",
        "print(np.allclose(solution, [1/(1-discount)]*nstates))"
      ],
      "execution_count": 25,
      "outputs": [
        {
          "output_type": "stream",
          "text": [
            "True\n"
          ],
          "name": "stdout"
        }
      ]
    },
    {
      "cell_type": "code",
      "metadata": {
        "id": "6oqbEfFplicW",
        "colab_type": "code",
        "outputId": "fec44df6-1e20-4bb3-d1d1-a5cc92de57bf",
        "colab": {
          "base_uri": "https://localhost:8080/",
          "height": 34
        }
      },
      "source": [
        "smooth_policy_iteration_operator = make_smooth_policy_iteration_operator(P, reward_all_ones, discount, default_temperature)\n",
        "policy = successive_approximation(np.zeros((nstates, nactions)), smooth_policy_iteration_operator, default_termination)\n",
        "solution = direct_policy_evaluation(P, reward_all_ones, discount, policy)\n",
        "print(np.allclose(solution, [1/(1-discount)]*nstates))"
      ],
      "execution_count": 26,
      "outputs": [
        {
          "output_type": "stream",
          "text": [
            "True\n"
          ],
          "name": "stdout"
        }
      ]
    },
    {
      "cell_type": "markdown",
      "metadata": {
        "id": "06KXVif-wzlR",
        "colab_type": "text"
      },
      "source": [
        "## Newton-Kantorovich\n",
        "\n",
        "In order to implement Newton-Kantorovich for the smooth Bellman operator, we first use the analytical expression for its Gateaux derivative. See [Rust (1996)](https://doi.org/10.1016/s1574-0021(96)01016-7) for reference"
      ]
    },
    {
      "cell_type": "code",
      "metadata": {
        "id": "dwaLGLLYOrZM",
        "colab_type": "code",
        "colab": {}
      },
      "source": [
        "from jax.experimental.stax import softmax\n",
        "\n",
        "def make_gateaux_derivative(P, R, discount, temperature):\n",
        "  \"\"\" Returns the Gateaux derivative at v of the smooth Bellman operator\n",
        "  \"\"\"\n",
        "  def gateaux_at(v):\n",
        "    \"\"\" Binds v into a function computing the gateaux derivative\n",
        "    \"\"\"\n",
        "    pv = np.einsum('ijk,k->ji', P, v)\n",
        "    d = softmax(1./temperature * np.add(R, discount*pv))\n",
        "    def gateaux_direction(w):\n",
        "      \"\"\" Compute the Gateaux derivative at v in the direction of w\n",
        "      \"\"\"\n",
        "      # Add your code here\n",
        "      pw = np.einsum('ijk,k->ji', P, w)\n",
        "      d_pw = np.einsum('ij, ij -> i', d, pw)\n",
        "      return discount * d_pw \n",
        "    return gateaux_direction\n",
        "  return gateaux_at"
      ],
      "execution_count": 0,
      "outputs": []
    },
    {
      "cell_type": "markdown",
      "metadata": {
        "id": "PJOeFmVzPOLo",
        "colab_type": "text"
      },
      "source": [
        "We can also compute this derivative using forward-mode automatic differentiation in [JAX](https://github.com/google/jax). Under the hood, forward-mode automatic differentiation is implemented by defining the jacobian-vector for all primitive operations. This vector-jacobian product corresponds to our notion of directional derivative and the function [vjp](https://jax.readthedocs.io/en/latest/jax.html#jax.jvp) gives us that.\n",
        "\n",
        "The following should return true:"
      ]
    },
    {
      "cell_type": "code",
      "metadata": {
        "id": "Eno-wKxSDa6Y",
        "colab_type": "code",
        "outputId": "482f9c19-3bdd-4574-e72d-a16bcea346bc",
        "colab": {
          "base_uri": "https://localhost:8080/",
          "height": 68
        }
      },
      "source": [
        "from jax import jvp\n",
        "\n",
        "v = np.ones(nstates)/nstates\n",
        "w = np.array([1.,2.])\n",
        "\n",
        "_, tangents = jvp(smooth_operator, (v, ), (w,))\n",
        "deriv = make_gateaux_derivative(P, reward_all_ones, discount, default_temperature)(v)(w)\n",
        "\n",
        "print(\"tangents \", tangents)\n",
        "print(\"deriv \", deriv)\n",
        "np.allclose(tangents, deriv)"
      ],
      "execution_count": 28,
      "outputs": [
        {
          "output_type": "stream",
          "text": [
            "tangents  [1.017 1.35 ]\n",
            "deriv  [1.017 1.35 ]\n"
          ],
          "name": "stdout"
        },
        {
          "output_type": "execute_result",
          "data": {
            "text/plain": [
              "DeviceArray(True, dtype=bool)"
            ]
          },
          "metadata": {
            "tags": []
          },
          "execution_count": 28
        }
      ]
    },
    {
      "cell_type": "markdown",
      "metadata": {
        "id": "iwx2GuDETxbX",
        "colab_type": "text"
      },
      "source": [
        "Equipped with the Gateaux derivative, we can then implement the Newton-Kantorovich algorithm in a generic way. Because Newton-Kantorovich involves taking an inverse, we need to be careful as to how we implement this step. A naive approach would consists in forming the full Jacobian and directly calling [np.linalg.solve](https://docs.scipy.org/doc/numpy/reference/generated/numpy.linalg.solve.html). But we can do better! Using a classical iterative method, all we require is to be able to take matrix-vector products, or more abstractly, to be able to apply an operator to any vector.  \n",
        "\n",
        "In the following, you have to build such method by defining the appropriate operator. Note that this operator has the same form as the policy evalution one, but for $I - A$ and where $A$ need not be a stochastic matrix (but we still need the spectral radius $\\sigma(I - A) < 1$)."
      ]
    },
    {
      "cell_type": "code",
      "metadata": {
        "id": "KG7PuddtWxjM",
        "colab_type": "code",
        "colab": {}
      },
      "source": [
        "def basic_iterative_solver(A, b):\n",
        "  \"\"\" Solves $Ax = b$, assuming that the spectral radius of $I - A$ is \n",
        "  strictly less than 1. We assume that $A$ is a callable $A(v)$.\n",
        "  \"\"\"\n",
        "  def operator(x):\n",
        "    \"\"\" Basic iterative step without preconditioning \n",
        "    (you can add preconditioning if you feel like)\n",
        "\n",
        "    This is what you would obtain by writting the Neumann series epxansion of \n",
        "    $A$ recursively. \n",
        "    \"\"\"\n",
        "    # Add your code here. This is a one-liner\n",
        "    return b + x - A(x)\n",
        "  return successive_approximation(np.zeros(b.shape), operator, default_termination)"
      ],
      "execution_count": 0,
      "outputs": []
    },
    {
      "cell_type": "markdown",
      "metadata": {
        "id": "wJ38sPm4TTrv",
        "colab_type": "text"
      },
      "source": [
        "Now refer to the course notes or [Rust (1996)](https://doi.org/10.1016/s1574-0021(96)01016-7) for the general structure of Newton-Kantorovich iterations and implement the corresponding operator:"
      ]
    },
    {
      "cell_type": "code",
      "metadata": {
        "id": "PkZfRM_zSO8R",
        "colab_type": "code",
        "colab": {}
      },
      "source": [
        "def make_newton_kantorovich(operator, gateaux_derivative):\n",
        "  \"\"\" Newton-Kantorovich method with matrix-free iterative solver\n",
        "  \"\"\"\n",
        "  def newton_kantorovich(v):\n",
        "    # One-liner using the above basic_iterative_solver\n",
        "    w =  v - operator(v)\n",
        "    A = gateaux_derivative(v)\n",
        "    gd = basic_iterative_solver(A, w)\n",
        "    return np.subtract(v, gd)\n",
        "  return newton_kantorovich"
      ],
      "execution_count": 0,
      "outputs": []
    },
    {
      "cell_type": "markdown",
      "metadata": {
        "id": "823YSItRTjEy",
        "colab_type": "text"
      },
      "source": [
        "As usual, we verify that we find the optimal value function when all rewards are one. The following should return true:"
      ]
    },
    {
      "cell_type": "code",
      "metadata": {
        "id": "0VWDl1nhT_pr",
        "colab_type": "code",
        "outputId": "1a25b4b0-d96a-4c9a-b84b-2036c70bd38f",
        "colab": {
          "base_uri": "https://localhost:8080/",
          "height": 34
        }
      },
      "source": [
        "smooth_operator = make_smooth_bellman_optimality_operator(P, reward_all_ones, discount, default_temperature)\n",
        "gateaux_derivative = make_gateaux_derivative(P, reward_all_ones, discount, default_temperature)\n",
        "\n",
        "newton_kantorovich_operator = make_newton_kantorovich(smooth_operator, gateaux_derivative)\n",
        "solution = successive_approximation(np.zeros((nstates,)), newton_kantorovich_operator, default_termination)\n",
        "print(np.allclose(solution, [1/(1-discount)]*nstates))"
      ],
      "execution_count": 31,
      "outputs": [
        {
          "output_type": "stream",
          "text": [
            "True\n"
          ],
          "name": "stdout"
        }
      ]
    },
    {
      "cell_type": "markdown",
      "metadata": {
        "id": "S2MSqa0a73w0",
        "colab_type": "text"
      },
      "source": [
        "# Trajectories in the Polytope\n",
        "\n",
        "Sample $1000$ policies at random. Using either the closed-form expression or via successive approximation, compute the value function corresponding to each of them. Plot the mapping $\\pi \\mapsto v_\\pi$ using [matplotlib.pyplot.scatter](https://matplotlib.org/api/_as_gen/matplotlib.pyplot.scatter.html) (the x axis is $v(s_0)$ and the y axis is $v(s_1))$. Enumerate all possible deterministic policies, compute their value functions and plot them. \n",
        "\n",
        "To do so, you may want to define a new function which generalizes the above ``direct_policy_evaluation`` to the case where you have a batch of policies (let's say as a multidimensional array of size $n \\times |\\mathcal{S}| \\times |\\mathcal{A}|$ where $n$ is the number of policies). This can be done easily by just changing the indices in the Einstein summation since [numpy.linalg.solve](https://docs.scipy.org/doc/numpy/reference/generated/numpy.linalg.solve.html) supports *batched*  linear systems out-of-the-box.\n"
      ]
    },
    {
      "cell_type": "code",
      "metadata": {
        "id": "dS4QqHzOUFlr",
        "colab_type": "code",
        "outputId": "67ecaffe-94a6-40fd-e8f6-0605edca2333",
        "colab": {
          "base_uri": "https://localhost:8080/",
          "height": 316
        }
      },
      "source": [
        "def batch_policy_evaluation(P, R, discount, policies):\n",
        "\n",
        "  discounted_p_pi = discount * np.einsum('ijk,lji->ljk', P, policies)\n",
        "  a = np.subtract(np.identity(P.shape[-1]), discounted_p_pi)\n",
        "\n",
        "  rpi = np.einsum('ij, lij -> li', R, policies)\n",
        "  return np.linalg.solve(a, rpi)\n",
        "\n",
        "\n",
        "import numpy.random as npr\n",
        "alphas = [0.5, 0.5]\n",
        "policies = npr.dirichlet(alpha=alphas, size=(1000, nstates))\n",
        "#policies = policies / np.sum(policies, axis=-1, keepdims=True)\n",
        "\n",
        "import matplotlib.pyplot as plt\n",
        "\n",
        "vs = batch_policy_evaluation(*mdp, policies)\n",
        "\n",
        "random_int = npr.randint(0,1000)\n",
        "\n",
        "print(\"vs \", vs[random_int,:])\n",
        "print(\"policies \", policies[random_int,:])\n",
        "\n",
        "x = vs[:,0]\n",
        "y = vs[:,1]\n",
        "#xlim_min = min(x)\n",
        "#xlim_max = max(x)\n",
        "#ylim_min = min(y)\n",
        "#ylim_max = max(y)\n",
        "#eps = 1e-1\n",
        "#plt.xlim(xlim_min-eps, xlim_max+eps)\n",
        "#plt.ylim(ylim_min-eps, ylim_max+eps)\n",
        "plt.scatter(x, y, c='yellow')\n",
        "\n",
        "def fill(all_lists, part_list, i):\n",
        "  if i == nstates:\n",
        "    all_lists.append(part_list)\n",
        "  else:\n",
        "    for j in range(nactions):\n",
        "      cur_list = list(part_list)\n",
        "      cur_list.append(j)\n",
        "      fill(all_lists, cur_list, i + 1)\n",
        "\n",
        "deterministic_policies= []\n",
        "fill(deterministic_policies, [], 0)\n",
        "\n",
        "det_policies = []\n",
        "for pol in deterministic_policies:\n",
        "  det_policies += [np.eye(P.shape[-1])[pol]]\n",
        "\n",
        "det_policies = np.stack(det_policies)\n",
        "\n",
        "det_vs = batch_policy_evaluation(*mdp, det_policies)\n",
        "det_x = det_vs[:,0]\n",
        "det_y = det_vs[:,1] \n",
        "\n",
        "plt.scatter(det_x, det_y, c='red')\n",
        "plt.show()\n"
      ],
      "execution_count": 32,
      "outputs": [
        {
          "output_type": "stream",
          "text": [
            "vs  [-0.82894636  1.02505688]\n",
            "policies  [[9.99698507e-01 3.01493209e-04]\n",
            " [9.49028389e-01 5.09716109e-02]]\n"
          ],
          "name": "stdout"
        },
        {
          "output_type": "display_data",
          "data": {
            "image/png": "[encoded data removed]",
            "text/plain": [
              "<Figure size 432x288 with 1 Axes>"
            ]
          },
          "metadata": {
            "tags": []
          }
        }
      ]
    },
    {
      "cell_type": "code",
      "metadata": {
        "id": "124JMS0JSETT",
        "colab_type": "code",
        "colab": {
          "base_uri": "https://localhost:8080/",
          "height": 85
        },
        "outputId": "c98e31bc-abaa-4260-8ddc-3972545bfc92"
      },
      "source": [
        "print(det_vs)"
      ],
      "execution_count": 33,
      "outputs": [
        {
          "output_type": "stream",
          "text": [
            "[[-0.54455446  1.43564356]\n",
            " [-3.38516746 -2.66746411]\n",
            " [-2.26643599  0.32871972]\n",
            " [-2.44571773 -1.84258142]]\n"
          ],
          "name": "stdout"
        }
      ]
    },
    {
      "cell_type": "markdown",
      "metadata": {
        "id": "ZKRoPg0qUJU_",
        "colab_type": "text"
      },
      "source": [
        "Overlay (with a different color) the trajectories taken by value iteration, smooth value iteration and Newton-Kantorovich. To do so, compute the greedy policy for each iterate and solve (policy evaluation) for its corresponding value function. Plot all such points.\n",
        "\n",
        "To get those iterates, you can call the function ``generate_iterates`` directly and consume the generator using the ``list()`` keyword:"
      ]
    },
    {
      "cell_type": "code",
      "metadata": {
        "id": "BWuaD7IR3aT_",
        "colab_type": "code",
        "outputId": "beb70b70-f2e3-442c-cba5-0a06ab04852c",
        "colab": {
          "base_uri": "https://localhost:8080/",
          "height": 299
        }
      },
      "source": [
        "# Example:\n",
        "starting_v = np.array( [-3.38516746, -2.66746411])\n",
        "print(starting_v)\n",
        "bellman_optimality_operator = make_bellman_optimality_operator(*mdp)\n",
        "trajectory = generate_iterates(starting_v, bellman_optimality_operator, default_termination)\n",
        "\n",
        "px = []\n",
        "py = []\n",
        "\n",
        "for e in list(trajectory):\n",
        "  #print(\"e \", e)\n",
        "  #rgmax_a = np.argmax(np.add(R, discount * np.einsum('ijk,k->ji', P, e)), axis=1)\n",
        "  #pol = np.eye(P.shape[-1])[argmax_a]\n",
        "  #policy_evaluation_operator = make_policy_evaluation_operator(*mdp, pol)\n",
        "  #pol_v = policy_evaluation_operator(e)\n",
        "  #pol_v = direct_policy_evaluation(*mdp, pol)\n",
        "  px.append(e[0])\n",
        "  py.append(e[1])\n",
        "\n",
        "plt.scatter(x, y, c='yellow')\n",
        "plt.scatter(det_x, det_y, c='red')\n",
        "plt.scatter(px, py, c='black')\n",
        "plt.show()\n",
        "\n",
        "print(\"Done 1\")"
      ],
      "execution_count": 34,
      "outputs": [
        {
          "output_type": "stream",
          "text": [
            "[-3.38516746 -2.66746411]\n"
          ],
          "name": "stdout"
        },
        {
          "output_type": "display_data",
          "data": {
            "image/png": "[encoded data removed]",
            "text/plain": [
              "<Figure size 432x288 with 1 Axes>"
            ]
          },
          "metadata": {
            "tags": []
          }
        },
        {
          "output_type": "stream",
          "text": [
            "Done 1\n"
          ],
          "name": "stdout"
        }
      ]
    },
    {
      "cell_type": "code",
      "metadata": {
        "id": "8JpBdVzD75xW",
        "colab_type": "code",
        "colab": {
          "base_uri": "https://localhost:8080/",
          "height": 282
        },
        "outputId": "270c32c9-0d79-49b3-d790-928ac501e593"
      },
      "source": [
        "smooth_bellman_optimality_operator = make_smooth_bellman_optimality_operator(*mdp, default_temperature)\n",
        "smoothtrajectory = generate_iterates(starting_v, smooth_bellman_optimality_operator, default_termination)\n",
        "\n",
        "smooth_x = []\n",
        "smooth_y = []\n",
        "for e in list(smoothtrajectory):\n",
        "  #print(\"e \", e)\n",
        "  #argmax_a = np.argmax(np.add(R, discount * np.einsum('ijk,k->ji', P, e)), axis=1)\n",
        "  #pol = np.eye(P.shape[-1])[argmax_a]\n",
        "  #pol_v = direct_policy_evaluation(*mdp, pol)\n",
        "  smooth_x.append(e[0])\n",
        "  smooth_y.append(e[1])\n",
        "\n",
        "plt.scatter(x, y, c='yellow')\n",
        "plt.scatter(det_x, det_y, c='red')\n",
        "plt.scatter(px, py, c='black')\n",
        "plt.scatter(smooth_x, smooth_y, c='green')\n",
        "plt.show()\n",
        "\n",
        "print(\"Done 2\")"
      ],
      "execution_count": 35,
      "outputs": [
        {
          "output_type": "display_data",
          "data": {
            "image/png": "[encoded data removed]",
            "text/plain": [
              "<Figure size 432x288 with 1 Axes>"
            ]
          },
          "metadata": {
            "tags": []
          }
        },
        {
          "output_type": "stream",
          "text": [
            "Done 2\n"
          ],
          "name": "stdout"
        }
      ]
    },
    {
      "cell_type": "code",
      "metadata": {
        "id": "RsLtDfT83yCQ",
        "colab_type": "code",
        "colab": {
          "base_uri": "https://localhost:8080/",
          "height": 282
        },
        "outputId": "ae4616f6-c2da-4f62-a669-dc3432a5b0a0"
      },
      "source": [
        "smooth_bellman_optimality_operator = make_smooth_bellman_optimality_operator(*mdp, default_temperature)\n",
        "gateaux_derivative = make_gateaux_derivative(*mdp, default_temperature)\n",
        "newton_kantorovich_operator = make_newton_kantorovich(smooth_bellman_optimality_operator, gateaux_derivative)\n",
        "ntrajectory = generate_iterates(starting_v, newton_kantorovich_operator, default_termination)\n",
        "\n",
        "nx = []\n",
        "ny = []\n",
        "\n",
        "for e in list(ntrajectory):\n",
        "  #print(\"e \", e)\n",
        "  #argmax_a = np.argmax(np.add(R, discount * np.einsum('ijk,k->ij', P, e)), axis=1)\n",
        "  #pol = np.eye(P.shape[-1])[argmax_a]\n",
        "  #policy_evaluation_operator = make_policy_evaluation_operator(*mdp, new_pol)\n",
        "  #pol = policy_evaluation_operator(e)\n",
        "  #pol_v = direct_policy_evaluation(*mdp, pol)\n",
        "\n",
        "  nx.append(e[0])\n",
        "  ny.append(e[1])\n",
        "\n",
        "\n",
        "plt.scatter(x, y, c='yellow')\n",
        "plt.scatter(det_x, det_y, c='red')\n",
        "plt.scatter(px, py, c='black')\n",
        "plt.scatter(smooth_x, smooth_y, c='green')\n",
        "plt.scatter(nx, ny, c='blue')\n",
        "plt.show()\n",
        "\n",
        "print(\"Done 3\")"
      ],
      "execution_count": 36,
      "outputs": [
        {
          "output_type": "display_data",
          "data": {
            "image/png": "[encoded data removed]",
            "text/plain": [
              "<Figure size 432x288 with 1 Axes>"
            ]
          },
          "metadata": {
            "tags": []
          }
        },
        {
          "output_type": "stream",
          "text": [
            "Done 3\n"
          ],
          "name": "stdout"
        }
      ]
    },
    {
      "cell_type": "markdown",
      "metadata": {
        "id": "04jm7-x1APoo",
        "colab_type": "text"
      },
      "source": [
        "Describes what happens as you decrease the temperature in smooth value iteration and with Newton-Kantorovich and the smooth Bellman operator? Answer this question by creating a new polytope plot on which you overlays the different trajectories taken by your algorithm depending on the temperature parameter. Don't forget to add a legend. \n",
        "\n",
        "Also, compare the trajectories taken by policy iteration and the Newton-Kantorovich method. Do they match? Compare the iterates computed by smooth policy iteration and those of the Newton-Kantorovich method with the smooth operator using the ``generate_iterates`` function. For each iterate of smooth policy iteration (a policy), compute the associated value function and compare with the values produced by Newton-Kantorovich. Do you get the same sequence of values as if you were to run Newton-Kantorovich? \n",
        "\n",
        "\n",
        "Answers: \n",
        "\n",
        "Decreasing the temperature leads to values further away from the ones obtained using the (hard) value iteration. \n",
        "Smooth policy iteration seems to converge much faster. \n"
      ]
    },
    {
      "cell_type": "code",
      "metadata": {
        "id": "FccNFU_t6Ami",
        "colab_type": "code",
        "colab": {
          "base_uri": "https://localhost:8080/",
          "height": 337
        },
        "outputId": "8d3043e7-193f-47f5-c938-6c53273c2e44"
      },
      "source": [
        "temperatures = [1e-4, 1e-3, 1e-2, 1e-1]\n",
        "\n",
        "fig, ax = plt.subplots()\n",
        "\n",
        "ax.set_ylim([-4,2])\n",
        "\n",
        "ax.scatter(x, y, c='yellow', label='Rnd')\n",
        "ax.scatter(det_x, det_y, c='red', label='Det')\n",
        "\n",
        "low_sv =np.array([-3.38516746, -2.66746411])\n",
        "\n",
        "for i, temp in enumerate(temperatures):\n",
        "  smooth_bellman_optimality_operator = make_smooth_bellman_optimality_operator(*mdp, temp)\n",
        "  smoothtrajectory = generate_iterates(low_sv, smooth_bellman_optimality_operator, default_termination)\n",
        "\n",
        "  smooth_x = []\n",
        "  smooth_y = []\n",
        "  for e in list(smoothtrajectory):\n",
        "    smooth_x.append(e[0])\n",
        "    smooth_y.append(e[1])\n",
        "  ax.scatter(smooth_x, smooth_y, c='green', alpha=(i+1)/4., label='SmoothB, t=' + str(temperatures[i]))\n",
        "\n",
        "  gateaux_derivative = make_gateaux_derivative(*mdp, temp)\n",
        "  newton_kantorovich_operator = make_newton_kantorovich(smooth_bellman_optimality_operator, gateaux_derivative)\n",
        "  ntrajectory = generate_iterates(low_sv, newton_kantorovich_operator, default_termination)\n",
        "\n",
        "  nx = []\n",
        "  ny = []\n",
        "  for e in list(ntrajectory):\n",
        "    nx.append(e[0])\n",
        "    ny.append(e[1])\n",
        "  ax.scatter(nx, ny, c='blue', alpha=(i+1)/4., label='N-k, t=' + str(temperatures[i]))\n",
        "\n",
        "  print(\"Done\")\n",
        "\n",
        "ax.scatter(px, py, c='black', label=\"Bellman\")\n",
        "\n",
        "ax.legend()\n",
        "plt.show()\n"
      ],
      "execution_count": 40,
      "outputs": [
        {
          "output_type": "stream",
          "text": [
            "Done\n",
            "Done\n",
            "Done\n",
            "Done\n"
          ],
          "name": "stdout"
        },
        {
          "output_type": "display_data",
          "data": {
            "image/png": "[encoded data removed]",
            "text/plain": [
              "<Figure size 432x288 with 1 Axes>"
            ]
          },
          "metadata": {
            "tags": []
          }
        }
      ]
    },
    {
      "cell_type": "code",
      "metadata": {
        "id": "lt8x7Mz7WDkw",
        "colab_type": "code",
        "colab": {
          "base_uri": "https://localhost:8080/",
          "height": 316
        },
        "outputId": "ec189601-4ce2-4d97-f588-54c864cd3d03"
      },
      "source": [
        "smooth_policy_iteration_operator = make_smooth_policy_iteration_operator(*mdp, default_temperature)\n",
        "policies = generate_iterates(np.zeros((nstates, nactions)), smooth_policy_iteration_operator, default_termination)\n",
        "\n",
        "spol_x = []\n",
        "spol_y = []\n",
        "\n",
        "fig, ax = plt.subplots()\n",
        "\n",
        "for pol in list(policies):\n",
        "  solution = direct_policy_evaluation(*mdp, pol)\n",
        "  print(\"solution \", solution)\n",
        "  spol_x.append(solution[0])\n",
        "  spol_y.append(solution[1])\n",
        "\n",
        "\n",
        "smooth_bellman_optimality_operator = make_smooth_bellman_optimality_operator(*mdp, default_temperature)\n",
        "gateaux_derivative = make_gateaux_derivative(*mdp, default_temperature)\n",
        "newton_kantorovich_operator = make_newton_kantorovich(smooth_bellman_optimality_operator, gateaux_derivative)\n",
        "ntrajectory = generate_iterates(low_sv, newton_kantorovich_operator, default_termination)\n",
        "\n",
        "nx = []\n",
        "ny = []\n",
        "\n",
        "for e in list(ntrajectory):\n",
        "  nx.append(e[0])\n",
        "  ny.append(e[1])\n",
        "\n",
        "\n",
        "ax.scatter(x, y, c='yellow', label='Rnd')\n",
        "ax.scatter(det_x, det_y, c='red', label='Det')\n",
        "ax.scatter(nx, ny, c='blue', label='NK')\n",
        "ax.scatter(spol_x, spol_y, c='black', label='SmoothPolIter')\n",
        "\n",
        "ax.legend()\n",
        "plt.show()\n"
      ],
      "execution_count": 39,
      "outputs": [
        {
          "output_type": "stream",
          "text": [
            "solution  [-2.26643599  0.32871972]\n",
            "solution  [-0.54455446  1.43564356]\n",
            "solution  [-0.54455446  1.43564356]\n"
          ],
          "name": "stdout"
        },
        {
          "output_type": "display_data",
          "data": {
            "image/png": "[encoded data removed]",
            "text/plain": [
              "<Figure size 432x288 with 1 Axes>"
            ]
          },
          "metadata": {
            "tags": []
          }
        }
      ]
    }
  ]
}