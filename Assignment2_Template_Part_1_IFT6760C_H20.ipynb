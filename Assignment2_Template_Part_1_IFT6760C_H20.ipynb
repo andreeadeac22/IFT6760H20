{
  "nbformat": 4,
  "nbformat_minor": 0,
  "metadata": {
    "colab": {
      "name": "Assignment2 Template Part 1 IFT6760C-H20",
      "provenance": [],
      "collapsed_sections": [],
      "include_colab_link": true
    },
    "kernelspec": {
      "name": "python3",
      "display_name": "Python 3"
    }
  },
  "cells": [
    {
      "cell_type": "markdown",
      "metadata": {
        "id": "view-in-github",
        "colab_type": "text"
      },
      "source": [
        "<a href=\"https://colab.research.google.com/github/andreeadeac22/IFT6760H20/blob/master/Assignment2_Template_Part_1_IFT6760C_H20.ipynb\" target=\"_parent\"><img src=\"https://colab.research.google.com/assets/colab-badge.svg\" alt=\"Open In Colab\"/></a>"
      ]
    },
    {
      "cell_type": "code",
      "metadata": {
        "id": "UURCX8_wJv3x",
        "colab_type": "code",
        "colab": {}
      },
      "source": [
        "import jax\n",
        "import jax.numpy as np\n",
        "from jax import random\n",
        "from jax import jit, grad\n",
        "from jax.config import config\n",
        "import matplotlib.pyplot as plt\n",
        "plt.rcParams['figure.dpi'] = 200\n",
        "\n",
        "config.update(\"jax_enable_x64\", True)"
      ],
      "execution_count": 0,
      "outputs": []
    },
    {
      "cell_type": "markdown",
      "metadata": {
        "id": "KILSnbUEDCgb",
        "colab_type": "text"
      },
      "source": [
        "# Bias in Policy Gradients\n",
        "\n",
        "The goal of this exercise is to understand the different sources of bias that we often encounted in practice when working under the infinite horizon setting. To verify this empirically, we will compare our derivative estimator with the exact policy gradient obtained by automatic differentiation. \n",
        "\n",
        "As in the last assignment, we use the simple polytope problem:"
      ]
    },
    {
      "cell_type": "code",
      "metadata": {
        "id": "8bc110DiJwfz",
        "colab_type": "code",
        "outputId": "c5fff597-1e9f-4000-83af-4dd54562368c",
        "colab": {
          "base_uri": "https://localhost:8080/",
          "height": 51
        }
      },
      "source": [
        "def dadashi_fig2d():\n",
        "  P = np.array([[[0.7, 0.3], [0.2, 0.8]],\n",
        "                [[0.99, 0.01], [0.99, 0.01]]])\n",
        "  R = np.array(([[-0.45, -0.1],\n",
        "                  [0.5,  0.5]]))\n",
        "  return P, R, 0.9\n",
        "\n",
        "transition, reward, discount = dadashi_fig2d()\n",
        "nstates, nactions = reward.shape\n",
        "\n",
        "initial_distribution = np.ones(nstates)/nstates"
      ],
      "execution_count": 2,
      "outputs": [
        {
          "output_type": "stream",
          "text": [
            "/usr/local/lib/python3.6/dist-packages/jax/lib/xla_bridge.py:123: UserWarning: No GPU/TPU found, falling back to CPU.\n",
            "  warnings.warn('No GPU/TPU found, falling back to CPU.')\n"
          ],
          "name": "stderr"
        }
      ]
    },
    {
      "cell_type": "markdown",
      "metadata": {
        "id": "jJ7d4naTItAb",
        "colab_type": "text"
      },
      "source": [
        "In the discounted setting, the effective horizon is about:"
      ]
    },
    {
      "cell_type": "code",
      "metadata": {
        "id": "BEv-bq1aIiwU",
        "colab_type": "code",
        "outputId": "d2c6ac5f-4bac-4303-ac7f-510fdf4ae65a",
        "colab": {
          "base_uri": "https://localhost:8080/",
          "height": 34
        }
      },
      "source": [
        "effective_horizon = 1/(1 - discount)\n",
        "print(f\"{effective_horizon} steps\")"
      ],
      "execution_count": 3,
      "outputs": [
        {
          "output_type": "stream",
          "text": [
            "10.000000000000002 steps\n"
          ],
          "name": "stdout"
        }
      ]
    },
    {
      "cell_type": "markdown",
      "metadata": {
        "id": "Ocpj_e_qIiJ-",
        "colab_type": "text"
      },
      "source": [
        "which gives you a sense of how large to set $T$ (but generally speaking this depends on the mixing time of your chain).\n",
        "\n",
        "Note that in this exercise, we parameterize the policy by just taking [jax.nn.softmax](https://jax.readthedocs.io/en/test-docs/_autosummary/jax.nn.softmax.html) over a matrix of $\\mathcal{S} \\times \\mathcal{A}$ parameters."
      ]
    },
    {
      "cell_type": "code",
      "metadata": {
        "id": "gFbvE58uIwRw",
        "colab_type": "code",
        "colab": {}
      },
      "source": [
        "def boltzmann_policy(params):\n",
        "  return jax.nn.softmax(params)"
      ],
      "execution_count": 0,
      "outputs": []
    },
    {
      "cell_type": "markdown",
      "metadata": {
        "id": "d62u46MbFZ8l",
        "colab_type": "text"
      },
      "source": [
        "Now a heads up: the random number generator of JAX [works differently](https://jax.readthedocs.io/en/latest/notebooks/Common_Gotchas_in_JAX.html#%F0%9F%94%AA-Random-Numbers) than that of Numpy. Everytime that you want to get *fresh* new random samples, you need to *split* a key, pass the subkey to the sampling function, and propagate the main key around in your code. \n",
        "\n",
        "To simplify sampling from a categorical distribution, a wrote the following function ``sample_categorical``. Now bear in mind that everytime that you call this function, you need to collect the new key as its first argument, and pass it back the next time you call it.\n",
        "\n",
        "Also, <font color='red'>it's quite slow</font>: JAX would do better in a non-sequential setting. There are probably better ways to do this. Feel free to improve."
      ]
    },
    {
      "cell_type": "code",
      "metadata": {
        "id": "NtqMSuIwEkML",
        "colab_type": "code",
        "colab": {}
      },
      "source": [
        "def sample_categorical(key, p):\n",
        "  key, subkey = random.split(key)\n",
        "  return key, random.categorical(subkey, np.log(p))"
      ],
      "execution_count": 0,
      "outputs": []
    },
    {
      "cell_type": "markdown",
      "metadata": {
        "id": "vYl0rHYhBpMI",
        "colab_type": "text"
      },
      "source": [
        "Equipped with this function, we can now sample an infinite trajectory given an MDP and a policy. The following function implements this idea using a generator which yields state-action pairs only."
      ]
    },
    {
      "cell_type": "code",
      "metadata": {
        "id": "GYlqXHvhBtec",
        "colab_type": "code",
        "colab": {}
      },
      "source": [
        "def sample_trajectory(key, transition, policy, initial_distribution):\n",
        "  key, state = sample_categorical(key, initial_distribution)\n",
        "  while True:\n",
        "    key, action = sample_categorical(key, policy[state, :])\n",
        "    yield np.asarray((state, action))\n",
        "    key, state = sample_categorical(key, transition[action, state, :])"
      ],
      "execution_count": 0,
      "outputs": []
    },
    {
      "cell_type": "markdown",
      "metadata": {
        "id": "RVSnCEgpPR0O",
        "colab_type": "text"
      },
      "source": [
        "You can also use this helper function which consumes ``nsamples`` from the given generator and stack its output into an array."
      ]
    },
    {
      "cell_type": "code",
      "metadata": {
        "id": "-veg1HfkPSFO",
        "colab_type": "code",
        "colab": {}
      },
      "source": [
        "def take_samples(generator, nsamples):\n",
        "  return np.vstack([sample for _, sample in zip(range(nsamples), generator)])"
      ],
      "execution_count": 0,
      "outputs": []
    },
    {
      "cell_type": "markdown",
      "metadata": {
        "id": "9P3tq3Pldvk0",
        "colab_type": "text"
      },
      "source": [
        "In this exercise, we are going to assess the bias introduced by estimating a REINFORCE-type (SF) gradient under the undiscounted distribution over trajectories. The biased estimator that we are going to implement stems from the expectation: \n",
        "\\begin{align*}\n",
        "\\mathbb{E}\\left[\\sum_{t=0}^\\infty \\gamma^t \\nabla_\\theta \\log \\pi_\\theta(A_t |S_t) \\left(\\sum_{k=t}^\\infty \\gamma^{k-t} r(S_k, A_k) \\right)\\right] \\enspace .\n",
        "\\end{align*}\n",
        "\n",
        "Some caveats:\n",
        "1. We would need an infinite trajectory: truncation is needed in practice\n",
        "2. The expression within the outer summation over $t$ must be discounted, but in practice this is often neglected/forgotten.\n",
        "\n",
        "We are going to assess this bias in practice. First, we need a function to compute a sum of discounted rewards. This could be achieved with a for-loop in pure python but it would be slow and we wouldn't be able to jit the resulting code. I'm providing you with my implementation which uses a convolution to compute the discounted returns. To see this, note that the return at time $i$ is of the form:\n",
        "\\begin{align*}\n",
        "g_i \\equiv \\sum_{t=0}^T \\gamma^t r_{t+i} \\enspace, \n",
        "\\end{align*}\n",
        "which is a [discrete cross-correlation](https://en.wikipedia.org/wiki/Cross-correlation). The cross-correlation is related to the convolution by inverting the time index. Because jax currently doesn't implement [numpy.convolve](https://docs.scipy.org/doc/numpy/reference/generated/numpy.convolve.html), we have to use the rather complicated [jax.lax.conv_general_dilated](https://jax.readthedocs.io/en/test-docs/_autosummary/jax.lax.conv_general_dilated.html#jax.lax.conv_general_dilated).\n"
      ]
    },
    {
      "cell_type": "code",
      "metadata": {
        "id": "vYIsVQYvlmgO",
        "colab_type": "code",
        "colab": {}
      },
      "source": [
        "def convolve1D(x, y):\n",
        "  # Based on https://github.com/google/jax/issues/1561\n",
        "  x_jax = np.reshape(x,(1,1,len(x)))\n",
        "  y_jax = np.flip(np.reshape(y,(1,1,len(y))),2)\n",
        "  return np.ravel(jax.lax.conv_general_dilated(x_jax,y_jax,[1],[(len(x)-1,len(x)-1)]))\n",
        "\n",
        "def discount_filter(rewards, discount):\n",
        "  nsamples = rewards.shape[0]\n",
        "  discount_sequence = np.power(discount, np.arange(nsamples))\n",
        "  filtered_rewards = convolve1D(rewards[::-1], discount_sequence)\n",
        "  return filtered_rewards[:nsamples][::-1]"
      ],
      "execution_count": 0,
      "outputs": []
    },
    {
      "cell_type": "markdown",
      "metadata": {
        "id": "yereYrG5oUgb",
        "colab_type": "text"
      },
      "source": [
        "\n",
        "To compare with the true gradient, it suffices to code-up the true objective and let JAX differentiation through it. I'm giving you my implementation of the \n",
        "direct policy evaluation code from the last assignment:\n"
      ]
    },
    {
      "cell_type": "code",
      "metadata": {
        "id": "i-IMGUXDouJk",
        "colab_type": "code",
        "colab": {}
      },
      "source": [
        "def direct_policy_evaluation(P, R, discount, policy):\n",
        "  ppi = np.einsum('ast,sa->st', P, policy)\n",
        "  rpi = np.einsum('sa,sa->s', R, policy)\n",
        "  vf = np.linalg.solve(np.eye(P.shape[-1]) - discount*ppi, rpi)\n",
        "  return vf"
      ],
      "execution_count": 0,
      "outputs": []
    },
    {
      "cell_type": "markdown",
      "metadata": {
        "id": "ZFuAiLucqUY8",
        "colab_type": "text"
      },
      "source": [
        "We will be measuring the error in the policy gradient in terms of both the direction and magnitude. The angle between two vector can be obtained from:\n",
        "\\begin{align*}\n",
        "u^\\top v = \\| u \\| \\| v\\| \\cos(\\theta) ,\n",
        "\\end{align*}\n",
        "where $\\theta$ is the angle between the vectors. Therefore, we can solve for that angle with: \n",
        "\\begin{align*}\n",
        "\\theta = \\text{acos}\\left(\\frac{u^\\top v}{\\|u \\| \\|v\\|}\\right) \\enspace .\n",
        "\\end{align*}"
      ]
    },
    {
      "cell_type": "code",
      "metadata": {
        "id": "2JjhTSsPq0Tc",
        "colab_type": "code",
        "colab": {}
      },
      "source": [
        "def angle_vectors(u, v):\n",
        "  return np.arccos(np.dot(u, v)/(np.linalg.norm(u)*np.linalg.norm(v)))"
      ],
      "execution_count": 0,
      "outputs": []
    },
    {
      "cell_type": "markdown",
      "metadata": {
        "id": "Lj88Zg4COa-A",
        "colab_type": "text"
      },
      "source": [
        "Finally, we are also interested in assessing the relative error in the gradients in terms of magnitude:"
      ]
    },
    {
      "cell_type": "code",
      "metadata": {
        "id": "CASOjSrPOjfs",
        "colab_type": "code",
        "colab": {}
      },
      "source": [
        "def relative_error(u, v):\n",
        "  return np.linalg.norm(u - v)/np.linalg.norm(v)"
      ],
      "execution_count": 0,
      "outputs": []
    },
    {
      "cell_type": "markdown",
      "metadata": {
        "id": "HvvbWnG0qIpe",
        "colab_type": "text"
      },
      "source": [
        "# Questions\n",
        "\n",
        "Implement a \"surrogate loss\" to obtain a truncated REINFORCE estimator. \n",
        "That is: a function which upon automatic differentiation by JAX will give you the right derivative estimator."
      ]
    },
    {
      "cell_type": "code",
      "metadata": {
        "id": "9dDlBI1JkrBi",
        "colab_type": "code",
        "colab": {}
      },
      "source": [
        "def make_truncated_reinforce(discount):\n",
        "  def trajectory_wise_surrogate_loss(params, data, discounted_returns):\n",
        "    \"\"\" Surrogate loss for a REINFORCE-type derivative estimator\n",
        "    Args:\n",
        "      params (ndarray): Array of S x A parameters\n",
        "      data (ndarray): Array of nsamples x 2 where the first column are states\n",
        "        and the second column are actions\n",
        "      discounted_returns (ndarray): Array of nsamples x 1 containing the sum of\n",
        "        discounted rewards for each corresponding sample from ``data``\n",
        "    Returns:\n",
        "      A scalar which is the mean return-weighted log probabilities\n",
        "    \"\"\"\n",
        "    # ADD YOUR CODE HERE\n",
        "    log_pi = np.log(params[data[:,0], data[:,1]])\n",
        "    log_ret = np.multiply(log_pi, discounted_returns)\n",
        "    gamma_log_ret = discount_filter(log_ret, discount)\n",
        "    return gamma_log_ret[0]\n",
        "  return trajectory_wise_surrogate_loss"
      ],
      "execution_count": 0,
      "outputs": []
    },
    {
      "cell_type": "markdown",
      "metadata": {
        "id": "_VLwqqcFou-M",
        "colab_type": "text"
      },
      "source": [
        "Using the provided policy evaluation code, implement the exact performance measure which we will then use to compute the true gradient by AD. That is, compute:\n",
        "\\begin{align*}\n",
        "J(\\theta) \\equiv \\alpha^\\top(I - \\gamma P_\\pi)^{-1} r_\\pi \\enspace.\n",
        "\\end{align*}"
      ]
    },
    {
      "cell_type": "code",
      "metadata": {
        "id": "1L7AW4Q3oiRv",
        "colab_type": "code",
        "colab": {}
      },
      "source": [
        "def make_performance_measure(P, R, discount, initial_distribution):\n",
        "  def objective(params):\n",
        "    \"\"\" Compute the expected discounted return for the given Boltzmann policy\n",
        "      Args:\n",
        "          params (ndarray): Array of S x A parameters for the\n",
        "            Boltzmann policy\n",
        "      Returns:\n",
        "        A scalar representing the expected discounted return\n",
        "    \"\"\"\n",
        "    # ADD YOUR CODE HERE\n",
        "    vf = direct_policy_evaluation(P, R, discount, params)\n",
        "    return np.matmul(initial_distribution, vf)\n",
        "  return objective"
      ],
      "execution_count": 0,
      "outputs": []
    },
    {
      "cell_type": "markdown",
      "metadata": {
        "id": "BzqvHGwCN123",
        "colab_type": "text"
      },
      "source": [
        "We can now create gradient functions for the corresponding \"losses\":"
      ]
    },
    {
      "cell_type": "code",
      "metadata": {
        "id": "klXBW57WN0Yz",
        "colab_type": "code",
        "colab": {}
      },
      "source": [
        "true_gradient = jit(grad(make_performance_measure(transition, reward, discount, initial_distribution)))\n",
        "truncated_gradient = jit(grad(make_truncated_reinforce(discount)))\n",
        "truncated_gradient_no_discount = jit(grad(make_truncated_reinforce(1.0)))"
      ],
      "execution_count": 0,
      "outputs": []
    },
    {
      "cell_type": "markdown",
      "metadata": {
        "id": "joAaj3lfLfJQ",
        "colab_type": "text"
      },
      "source": [
        "Vary the parameters ``nruns`` and ``trajectory_len`` below to collect trajectories of varying length. Using a random policy (code provided), compare: \n",
        "\n",
        "1. A truncated REINFORCE estimator with $T < \\infty$ but where you use the exact Q-values (pre-computed using ``direct_policy_evaluation``) in: \n",
        "\\begin{align*}\n",
        "\\mathbb{E}\\left[\\sum_{t=0}^T \\gamma^t \\nabla_\\theta \\log \\pi_\\theta(A_t |S_t) Q_{\\pi, \\gamma}(S_t, A_t)\\right] \\enspace .\n",
        "\\end{align*}\n",
        "  1.1 Without discounting before the gradient term (but discounted Q-values):\n",
        "  \\begin{align*}\n",
        "\\mathbb{E}\\left[\\sum_{t=0}^T \\nabla_\\theta \\log \\pi_\\theta(A_t |S_t) Q_{\\pi, \\gamma}(S_t, A_t)\\right] \\enspace .\n",
        "\\end{align*}\n",
        "2. A truncated REINFORCE estimator  with $T < \\infty$ and sampled returns (from the same trajectory):\n",
        "\\begin{align*}\n",
        "\\mathbb{E}\\left[\\sum_{t=0}^T \\gamma^t \\nabla_\\theta \\log \\pi_\\theta(A_t |S_t) \\left(\\sum_{k=t}^\\infty \\gamma^{k-t} r(S_k, A_k) \\right)\\right] \\enspace .\n",
        "\\end{align*}\n",
        "  2.1 Without discounting before the gradient term:\n",
        "  \\begin{align*}\n",
        "\\mathbb{E}\\left[\\sum_{t=0}^T \\nabla_\\theta \\log \\pi_\\theta(A_t |S_t) \\left(\\sum_{k=t}^\\infty \\gamma^{k-t} r(S_k, A_k) \\right)\\right] \\enspace .\n",
        "\\end{align*}"
      ]
    },
    {
      "cell_type": "code",
      "metadata": {
        "id": "x9VfnlmbvZEb",
        "colab_type": "code",
        "colab": {}
      },
      "source": [
        "\n",
        "nruns = 100\n",
        "trajectory_len = 50\n",
        "\n",
        "key = random.PRNGKey(0)\n",
        "key, subkey = random.split(key)\n",
        "random_params = random.uniform(key, reward.shape)\n",
        "\n",
        "policy = boltzmann_policy(random_params)\n",
        "\n",
        "# Compute the Q function here (can be re-used across all runs)\n",
        "# ADD YOU CODE HERE (two lines)\n",
        "\n",
        "vf = direct_policy_evaluation(transition, reward, discount, policy)\n",
        "pv = np.einsum('ijk,k->ji', transition, vf)\n",
        "qf = reward + discount * pv\n",
        "\n",
        "bias_grads = []\n",
        "for i in range(nruns):\n",
        "  key, subkey = random.split(key)\n",
        "  data = take_samples(sample_trajectory(key, transition, policy, initial_distribution), trajectory_len)\n",
        "  rewards = reward[data[:, 0], data[:, 1]]\n",
        "  filtered = discount_filter(reward[data[:, 0], data[:, 1]], discount)\n",
        "  #bg = truncated_gradient(random_params, data, qf[data[:, 0], data[:, 1]]) # no_discount\n",
        "  bg = truncated_gradient(random_params, data, filtered)\n",
        "  bias_grads.append(bg.ravel())"
      ],
      "execution_count": 0,
      "outputs": []
    },
    {
      "cell_type": "markdown",
      "metadata": {
        "id": "ZbQKx3FEOUWg",
        "colab_type": "text"
      },
      "source": [
        "For each estimator, plot each of the ``nruns`` stochastic gradient as a point of a polar scatter plot. The angle of each point represents the angular error and the distance from the center is the error in the magnitude. For an unbiased estimator, the points should concentrate around the center."
      ]
    },
    {
      "cell_type": "code",
      "metadata": {
        "id": "UOrr7M02-byR",
        "colab_type": "code",
        "colab": {
          "base_uri": "https://localhost:8080/",
          "height": 311
        },
        "outputId": "fa7971bf-7c80-4fab-8b81-8c83bd508e45"
      },
      "source": [
        "tg = true_gradient(random_params).ravel()\n",
        "\n",
        "fig = plt.figure()\n",
        "ax = fig.add_subplot(111, projection='polar')\n",
        "errors = np.vstack([np.asarray((angle_vectors(bg, tg), relative_error(bg, tg))) for bg in bias_grads])\n",
        "mean_error = np.mean(errors, axis=0)\n",
        "\n",
        "ax.set_title('Mean angular error {:0.2f} degrees'.format(np.degrees(mean_error[0])))\n",
        "ax.scatter(errors[:,0], errors[:,1], alpha=0.25)"
      ],
      "execution_count": 48,
      "outputs": [
        {
          "output_type": "execute_result",
          "data": {
            "text/plain": [
              "<matplotlib.collections.PathCollection at 0x7f572e24d240>"
            ]
          },
          "metadata": {
            "tags": []
          },
          "execution_count": 48
        },
        {
          "output_type": "display_data",
          "data": {
            "image/png": "[encoded data removed]",
            "text/plain": [
              "<Figure size 432x288 with 1 Axes>"
            ]
          },
          "metadata": {
            "tags": [],
            "needs_background": "light"
          }
        }
      ]
    }
  ]
}